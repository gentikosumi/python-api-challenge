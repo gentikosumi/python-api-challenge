{
 "cells": [
  {
   "cell_type": "markdown",
   "metadata": {},
   "source": [
    "# WeatherPy\n",
    "----\n",
    "\n",
    "#### Note\n",
    "* Instructions have been included for each segment. You do not have to follow them exactly, but they are included to help you think through the steps."
   ]
  },
  {
   "cell_type": "code",
   "execution_count": 95,
   "metadata": {
    "scrolled": true
   },
   "outputs": [],
   "source": [
    "# Dependencies and Setup\n",
    "import matplotlib.pyplot as plt\n",
    "import pandas as pd\n",
    "import numpy as np\n",
    "import requests\n",
    "import time\n",
    "from scipy.stats import linregress\n",
    "\n",
    "# Import API key\n",
    "from api_keys import weather_api_key\n",
    "\n",
    "# Incorporated citipy to determine city based on latitude and longitude\n",
    "from citipy import citipy\n",
    "\n",
    "# Output File (CSV)\n",
    "output_data_file = \"output_data/cities.csv\"\n",
    "\n",
    "# Range of latitudes and longitudes\n",
    "lat_range = (-90, 90)\n",
    "lng_range = (-180, 180)"
   ]
  },
  {
   "cell_type": "markdown",
   "metadata": {},
   "source": [
    "## Generate Cities List"
   ]
  },
  {
   "cell_type": "code",
   "execution_count": 97,
   "metadata": {},
   "outputs": [
    {
     "data": {
      "text/plain": [
       "602"
      ]
     },
     "execution_count": 97,
     "metadata": {},
     "output_type": "execute_result"
    }
   ],
   "source": [
    "# List for holding lat_lngs and cities\n",
    "lat_lngs = []\n",
    "cities = []\n",
    "\n",
    "# Create a set of random lat and lng combinations\n",
    "lats = np.random.uniform(low=-90.000, high=90.000, size=1500)\n",
    "lngs = np.random.uniform(low=-180.000, high=180.000, size=1500)\n",
    "lat_lngs = zip(lats, lngs)\n",
    "\n",
    "# Identify nearest city for each lat, lng combination\n",
    "for lat_lng in lat_lngs:\n",
    "    city = citipy.nearest_city(lat_lng[0], lat_lng[1]).city_name\n",
    "    \n",
    "    # If the city is unique, then add it to a our cities list\n",
    "    if city not in cities:\n",
    "        cities.append(city)\n",
    "\n",
    "# Print the city count to confirm sufficient count\n",
    "len(cities)"
   ]
  },
  {
   "cell_type": "markdown",
   "metadata": {},
   "source": [
    "### Perform API Calls\n",
    "* Perform a weather check on each city using a series of successive API calls.\n",
    "* Include a print log of each city as it'sbeing processed (with the city number and city name).\n"
   ]
  },
  {
   "cell_type": "code",
   "execution_count": 99,
   "metadata": {},
   "outputs": [
    {
     "name": "stdout",
     "output_type": "stream",
     "text": [
      "The city being processed is: laguna | 5364271\n",
      "The city being processed is: clyde river | 5924351\n",
      "The city being processed is: port elizabeth | 964420\n",
      "The city being processed is: saint-joseph | 6690296\n",
      "The city being processed is: blagoveshchenka | 1509999\n",
      "The city being processed is: foki | 562580\n",
      "The city being processed is: kapaa | 5848280\n",
      "The city being processed is: sitka | 5557293\n",
      "The city being processed is: ponta do sol | 2264557\n",
      "The city being processed is: bandarbeyla | 64814\n",
      "The city being processed is: castro | 3466704\n",
      "The city being processed is: yellowknife | 6185377\n",
      "The city being processed is: san jose | 5392171\n",
      "The city being processed is: airai | 1651810\n",
      "The city being processed is: khatanga | 2022572\n",
      "The city being processed is: ushuaia | 3833367\n",
      "The city being processed is: tuatapere | 2180815\n",
      "The city being processed is: lagoa | 3372964\n",
      "The city being processed is: nikolskoye | 546105\n",
      "The city being processed is: ahipara | 2194098\n",
      "The city being processed is: huarmey | 3939168\n",
      "The city being processed is: nhulunbuy | 2064735\n",
      "The city being processed is: lumby | 6061958\n",
      "The city being processed is: santa marta | 3668605\n",
      "The city being processed is: cape town | 3369157\n",
      "The city being processed is: new norfolk | 2155415\n",
      "The city being processed is: tuktoyaktuk | 6170031\n",
      "The city being processed is: hithadhoo | 1282256\n",
      "The city being processed is: general pico | 3855075\n",
      "The city being processed is: xining | 1788852\n",
      "The city being processed is: athabasca | 5887916\n",
      "The city being processed is: ancud | 3899695\n",
      "The city being processed is: bontang | 1648186\n",
      "The city being processed is: georgetown | 1735106\n",
      "The city being processed is: znamenskoye | 1485020\n",
      "The city being processed is: kattivakkam | 1267433\n",
      "The city being processed is: saskylakh | 2017155\n",
      "The city being processed is: aykhal | 2027296\n",
      "The city being processed is: avera | 4231997\n",
      "The city being processed is: adeje | 2522437\n",
      "The city being processed is: ous | 1495812\n",
      "The city being processed is: kasama | 912764\n",
      "The city being processed is: hasaki | 2112802\n",
      "The city being processed is: poronaysk | 2121909\n",
      "The city being processed is: sao joao da barra | 3448903\n",
      "The city being processed is: carnarvon | 2074865\n",
      "The city being processed is: punta arenas | 3874787\n",
      "The city being processed is: east london | 1006984\n",
      "The city being processed is: puerto ayacucho | 3629710\n",
      "The city being processed is: saint-philippe | 935215\n",
      "The city being processed is: manggar | 1636426\n",
      "The city being processed is: salalah | 286621\n",
      "The city being processed is: zhigansk | 2012530\n",
      "The city being processed is: masuguru | 878054\n",
      "The city being processed is: berbera | 64435\n",
      "The city being processed is: conceicao da barra | 3465769\n",
      "The city being processed is: ketchikan | 5554428\n",
      "The city being processed is: richards bay | 962367\n",
      "The city being processed is: keita | 2442478\n",
      "The city being processed is: egvekinot | 4031742\n",
      "The city being processed is: atuona | 4020109\n",
      "The city being processed is: solntsevo | 490976\n",
      "The city being processed is: qasigiannguit | 3420768\n",
      "The city being processed is: hambantota | 1244926\n",
      "The city being processed is: rapid valley | 5768244\n",
      "The city being processed is: ambulu | 1621313\n",
      "The city being processed is: zyryanka | 2119283\n",
      "The city being processed is: acapulco | 3533462\n",
      "The city being processed is: iqaluit | 5983720\n",
      "The city being processed is: vaini | 4032243\n",
      "The city being processed is: terra santa | 3386467\n",
      "The city being processed is: sandviken | 2680075\n",
      "The city being processed is: albany | 5106841\n",
      "The city being processed is: avarua | 4035715\n",
      "The city being processed is: husavik | 2629833\n",
      "The city being processed is: port alfred | 964432\n",
      "The city being processed is: bluff | 2206939\n",
      "The city being processed is: tasiilaq | 3424607\n",
      "The city being processed is: ostrovnoy | 556268\n",
      "The city being processed is: hilo | 5855927\n",
      "The city being processed is: gumla | 1270722\n",
      "The city being processed is: mar del plata | 3430863\n",
      "The city being processed is: busselton | 2075265\n",
      "The city being processed is: muisne | 3653967\n",
      "The city being processed is: smirnykh | 2121126\n",
      "The city being processed is: broome | 5110365\n",
      "The city being processed is: dire | 2458624\n",
      "The city being processed is: dikson | 1507390\n",
      "The city being processed is: qaanaaq | 3831208\n",
      "The city being processed is: hermanus | 3366880\n",
      "The city being processed is: broken hill | 2173911\n",
      "The city being processed is: thompson | 6165406\n",
      "The city being processed is: rikitea | 4030556\n",
      "The city being processed is: saint-louis | 2246451\n",
      "The city being processed is: hobart | 2163355\n",
      "The city being processed is: tosham | 1254214\n",
      "The city being processed is: margate | 2643044\n",
      "The city being processed is: izhmorskiy | 1505228\n",
      "The city being processed is: lompoc | 5367788\n",
      "The city being processed is: beira | 1052373\n",
      "The city being processed is: kahului | 5847411\n",
      "The city being processed is: sarangani | 1687186\n",
      "The city being processed is: lorengau | 2092164\n",
      "The city being processed is: cururupu | 3401148\n",
      "The city being processed is: jamestown | 5122534\n",
      "The city being processed is: lufilufi | 4035249\n",
      "The city being processed is: palanga | 596238\n",
      "The city being processed is: krasnokamensk | 2021618\n",
      "The city being processed is: kirensk | 2022083\n",
      "The city being processed is: curaca | 3401331\n",
      "The city being processed is: biloela | 2175819\n",
      "The city being processed is: miri | 1738050\n",
      "The city being processed is: hofn | 2630299\n",
      "The city being processed is: barmer | 1276901\n",
      "The city being processed is: waldorf | 4372599\n",
      "The city being processed is: mataura | 6201424\n",
      "The city being processed is: upernavik | 3418910\n",
      "The city being processed is: ambilobe | 1082243\n",
      "The city being processed is: kandrian | 2094746\n",
      "The city being processed is: alofi | 4036284\n",
      "The city being processed is: tiksi | 2015306\n",
      "The city being processed is: isla mujeres | 3526756\n",
      "The city being processed is: esperance | 2071860\n",
      "The city being processed is: namibe | 3347019\n",
      "The city being processed is: alyangula | 2079582\n",
      "The city being processed is: lusambo | 210379\n",
      "The city being processed is: victoria | 1819729\n",
      "The city being processed is: tamala | 484674\n",
      "The city being processed is: chokurdakh | 2126123\n",
      "The city being processed is: tessalit | 2449893\n",
      "The city being processed is: klaksvik | 2618795\n",
      "The city being processed is: dawson | 4190953\n",
      "The city being processed is: traralgon | 2146108\n",
      "The city being processed is: arraial do cabo | 3471451\n",
      "The city being processed is: ojinaga | 3994469\n",
      "The city being processed is: faanui | 4034551\n",
      "The city being processed is: ribeira grande | 3372707\n",
      "The city being processed is: yumen | 1528998\n",
      "The city being processed is: hamilton | 4513583\n",
      "The city being processed is: nauta | 3692020\n",
      "The city being processed is: kapoeta | 372884\n",
      "The city being processed is: portland | 5746545\n",
      "The city being processed is: cherskiy | 2126199\n",
      "The city being processed is: amot | 3163198\n",
      "The city being processed is: bengkulu | 1649150\n",
      "The city being processed is: mukhen | 2019718\n",
      "The city being processed is: boa vista | 3664980\n",
      "The city being processed is: qeshm | 119374\n",
      "The city being processed is: port hardy | 6111862\n",
      "The city being processed is: bathsheba | 3374083\n",
      "The city being processed is: karratha | 6620339\n",
      "The city being processed is: usinsk | 863061\n",
      "The city being processed is: nuuk | 3421319\n",
      "The city being processed is: beloha | 1067565\n",
      "The city being processed is: bredasdorp | 1015776\n",
      "The city being processed is: severo-kurilsk | 2121385\n",
      "The city being processed is: nanortalik | 3421765\n",
      "The city being processed is: taman | 484670\n",
      "The city being processed is: bunia | 217695\n",
      "The city being processed is: kodiak | 5866583\n",
      "The city being processed is: butaritari | 2110227\n",
      "The city being processed is: san jeronimo | 3929611\n",
      "The city being processed is: yerofey pavlovich | 2012938\n",
      "The city being processed is: chapleau | 5919915\n",
      "The city being processed is: skibbereen | 2961459\n",
      "The city being processed is: port blair | 1259385\n",
      "The city being processed is: lashio | 1314759\n",
      "The city being processed is: necochea | 3430443\n",
      "The city being processed is: coahuayana | 4013679\n",
      "The city being processed is: khorixas | 3356213\n",
      "The city being processed is: ende | 1644932\n",
      "The city being processed is: barrow | 5880054\n",
      "The city being processed is: narsaq | 3421719\n",
      "The city being processed is: areia | 3407210\n",
      "The city being processed is: canico | 2270258\n",
      "The city being processed is: katherine | 2068655\n",
      "The city being processed is: ilulissat | 3423146\n",
      "The city being processed is: bethel | 5282297\n",
      "The city being processed is: cadillac | 4987617\n",
      "The city being processed is: marion | 4260977\n",
      "The city being processed is: bulancak | 750317\n",
      "The city being processed is: gua musang | 1734651\n",
      "The city being processed is: kaitangata | 2208248\n",
      "The city being processed is: katangli | 2122783\n",
      "The city being processed is: bambous virieux | 1106677\n",
      "The city being processed is: sobolevo | 525426\n",
      "The city being processed is: grindavik | 3416888\n",
      "The city being processed is: la roche-sur-yon | 3006767\n",
      "The city being processed is: dunedin | 2191562\n",
      "The city being processed is: camapua | 3468020\n",
      "The city being processed is: west freehold | 5106262\n",
      "The city being processed is: kavieng | 2094342\n",
      "The city being processed is: arman | 2127060\n",
      "The city being processed is: cabo san lucas | 3985710\n",
      "The city being processed is: migori | 186731\n",
      "The city being processed is: liverpool | 2644210\n",
      "The city being processed is: beipiao | 2038342\n",
      "The city being processed is: abrau-dyurso | 584365\n",
      "The city being processed is: dingle | 1714733\n",
      "The city being processed is: olafsvik | 3414079\n",
      "The city being processed is: barentu | 342711\n",
      "The city being processed is: katsuura | 2112309\n",
      "The city being processed is: denia | 2518878\n",
      "The city being processed is: los llanos de aridane | 2514651\n",
      "The city being processed is: mayo | 4362001\n",
      "The city being processed is: wismar | 2807465\n",
      "The city being processed is: cayenne | 3382160\n",
      "The city being processed is: ipixuna | 3408424\n",
      "The city being processed is: umm kaddadah | 364933\n",
      "The city being processed is: reitz | 962847\n",
      "The city being processed is: perth | 2063523\n",
      "The city being processed is: maniitsoq | 3421982\n",
      "The city being processed is: saint george | 5546220\n",
      "The city being processed is: chioggia | 3178784\n",
      "The city being processed is: araouane | 2460954\n",
      "The city being processed is: codrington | 2171099\n",
      "The city being processed is: boddam | 2655288\n",
      "The city being processed is: bose | 6457397\n",
      "The city being processed is: cacequi | 3468553\n",
      "The city being processed is: uglovskoye | 1488632\n",
      "The city being processed is: rio cuarto | 3838874\n",
      "The city being processed is: bongandanga | 218229\n",
      "The city being processed is: souillac | 933995\n",
      "The city being processed is: manono | 209598\n",
      "The city being processed is: alice springs | 2077895\n",
      "The city being processed is: edson | 5946820\n",
      "The city being processed is: cedar city | 5536630\n",
      "The city being processed is: kruisfontein | 986717\n",
      "The city being processed is: san cristobal | 3628473\n",
      "The city being processed is: oistins | 3373652\n",
      "The city being processed is: pacifica | 5380420\n",
      "The city being processed is: sechura | 3691954\n",
      "The city being processed is: lebu | 3883457\n",
      "The city being processed is: madimba | 878141\n",
      "The city being processed is: lermontovka | 2020824\n",
      "The city being processed is: tautira | 4033557\n",
      "The city being processed is: dwarka | 1272140\n",
      "The city being processed is: helena | 5656882\n",
      "The city being processed is: gornozavodsk | 559752\n",
      "The city being processed is: komsomolskiy | 1513491\n",
      "The city being processed is: whitianga | 2179103\n",
      "The city being processed is: neiafu | 4032420\n",
      "The city being processed is: raha | 1259039\n",
      "The city being processed is: hervey bay | 2146219\n",
      "The city being processed is: pangnirtung | 6096551\n",
      "The city being processed is: torbay | 6167817\n",
      "The city being processed is: itarema | 3393692\n",
      "The city being processed is: nampa | 5601933\n",
      "The city being processed is: puerto ayora | 3652764\n",
      "The city being processed is: santiago | 3871336\n",
      "The city being processed is: tual | 1623197\n",
      "The city being processed is: kareli | 1267794\n",
      "The city being processed is: lodwar | 189280\n",
      "The city being processed is: biltine | 244878\n",
      "The city being processed is: muros | 3115824\n",
      "The city being processed is: fairbanks | 5861897\n",
      "The city being processed is: vardo | 777019\n",
      "The city being processed is: raga | 368246\n",
      "The city being processed is: moose factory | 6078372\n",
      "The city being processed is: qaqortoq | 3420846\n",
      "The city being processed is: sembakung | 1627877\n",
      "The city being processed is: goderich | 5962442\n",
      "The city being processed is: labuan | 1733782\n",
      "The city being processed is: norman wells | 6089245\n",
      "The city being processed is: victoria falls | 879431\n",
      "The city being processed is: rasra | 1258380\n",
      "The city being processed is: talnakh | 1490256\n",
      "The city being processed is: horn lake | 4430400\n",
      "The city being processed is: anchorage | 5879400\n",
      "The city being processed is: tando muhammad khan | 1163952\n",
      "The city being processed is: esmeralda | 3559318\n",
      "The city being processed is: havelock | 4470244\n",
      "The city being processed is: provideniya | 4031574\n",
      "The city being processed is: floro | 3156980\n",
      "The city being processed is: vila velha | 3445026\n",
      "The city being processed is: isangel | 2136825\n",
      "The city being processed is: megion | 1499053\n",
      "The city being processed is: tuy hoa | 1563281\n",
      "The city being processed is: la ronge | 6050066\n",
      "The city being processed is: kirakira | 2178753\n",
      "The city being processed is: gravdal | 3155152\n",
      "The city being processed is: vila franca do campo | 3372472\n",
      "The city being processed is: batyrevo | 578659\n",
      "The city being processed is: palekh | 513095\n",
      "The city being processed is: belmonte | 3470137\n",
      "The city being processed is: fortuna | 5563839\n",
      "The city being processed is: rexburg | 5605242\n",
      "The city being processed is: ballina | 2177069\n",
      "The city being processed is: ajdabiya | 89113\n",
      "The city being processed is: tabou | 2281120\n",
      "The city being processed is: tawau | 1734199\n",
      "The city being processed is: alugan | 1731248\n",
      "The city being processed is: santa rosa | 1687894\n",
      "The city being processed is: knysna | 988698\n",
      "The city being processed is: nemuro | 2128975\n",
      "The city being processed is: ukiah | 5404476\n",
      "The city being processed is: betare oya | 2234339\n",
      "The city being processed is: ashington | 2656947\n",
      "The city being processed is: pinheiro machado | 3453741\n",
      "The city being processed is: la palma | 5364022\n",
      "The city being processed is: pemangkat | 1631637\n",
      "The city being processed is: kamenka | 553766\n",
      "The city being processed is: selcuk | 301256\n",
      "The city being processed is: antalaha | 1071296\n",
      "The city being processed is: at-bashi | 1528796\n",
      "The city being processed is: sinaloa | 3983035\n",
      "The city being processed is: bosaso | 64013\n",
      "The city being processed is: cidreira | 3466165\n",
      "The city being processed is: tangjiazhuang | 1793385\n",
      "The city being processed is: cervo | 3125287\n",
      "The city being processed is: zaozerne | 687726\n",
      "The city being processed is: namatanai | 2090021\n",
      "The city being processed is: sao filipe | 3374210\n",
      "The city being processed is: nantucket | 4944903\n",
      "The city being processed is: kaeo | 2189343\n",
      "The city being processed is: daye | 1813206\n",
      "The city being processed is: granada | 2517115\n",
      "The city being processed is: kutum | 371745\n",
      "The city being processed is: praia da vitoria | 3372760\n",
      "The city being processed is: touba | 2280376\n",
      "The city being processed is: chicama | 3698359\n",
      "The city being processed is: juybar | 129933\n",
      "The city being processed is: havre-saint-pierre | 5972291\n",
      "The city being processed is: bataipora | 3470338\n",
      "The city being processed is: nehe | 2035610\n",
      "The city being processed is: cukai | 1732945\n",
      "The city being processed is: uvalde | 4738723\n",
      "The city being processed is: buarcos | 2741961\n",
      "The city being processed is: conde | 3385077\n",
      "The city being processed is: toamasina | 1053384\n",
      "The city being processed is: deputatskiy | 2028164\n",
      "The city being processed is: zhireken | 2012510\n",
      "The city being processed is: pevek | 2122090\n",
      "The city being processed is: cleveland | 5150529\n",
      "The city being processed is: mount isa | 2065594\n",
      "The city being processed is: kifri | 94298\n",
      "The city being processed is: taranto | 3165924\n",
      "The city being processed is: bagdarin | 2027244\n",
      "The city being processed is: liberal | 5445820\n",
      "The city being processed is: duldurga | 2024812\n",
      "The city being processed is: kingston | 3489854\n",
      "The city being processed is: baruun-urt | 2032614\n",
      "The city being processed is: saint-augustin | 6137462\n",
      "The city being processed is: hami | 1529484\n",
      "The city being processed is: ciudad bolivar | 3645532\n",
      "The city being processed is: vestmannaeyjar | 3412093\n",
      "The city being processed is: bud | 4255151\n",
      "The city being processed is: santa fe | 3836277\n",
      "The city being processed is: palu | 1633034\n",
      "The city being processed is: beaufort | 1733874\n",
      "The city being processed is: sisimiut | 3419842\n",
      "The city being processed is: greensburg | 5192029\n",
      "The city being processed is: pisco | 3932145\n",
      "The city being processed is: cuenca | 3658666\n",
      "The city being processed is: santa cruz | 3904906\n",
      "The city being processed is: puerto escondido | 3520994\n",
      "The city being processed is: wajir | 178443\n",
      "The city being processed is: puerto del rosario | 2512186\n",
      "The city being processed is: amarante | 3407756\n",
      "The city being processed is: naze | 1855540\n",
      "The city being processed is: jalingo | 2336589\n",
      "The city being processed is: nerchinskiy zavod | 2019323\n",
      "The city being processed is: vanavara | 2013727\n",
      "The city being processed is: palmeira das missoes | 3455416\n",
      "The city being processed is: sikonge | 149929\n",
      "The city being processed is: liseleje | 2617538\n",
      "The city being processed is: andros town | 3572906\n",
      "The city being processed is: russell | 4047434\n",
      "The city being processed is: siniscola | 3166509\n",
      "The city being processed is: mtwara | 877747\n",
      "The city being processed is: tabuk | 1684803\n",
      "The city being processed is: port-gentil | 2396518\n",
      "The city being processed is: grand gaube | 934479\n",
      "The city being processed is: ozuluama | 3522235\n",
      "The city being processed is: maragogi | 3395458\n",
      "The city being processed is: ola | 2122574\n",
      "The city being processed is: shimoda | 1852357\n",
      "The city being processed is: la cruz | 4002745\n",
      "The city being processed is: waki | 1848933\n",
      "The city being processed is: kajaani | 654901\n",
      "The city being processed is: eyl | 60019\n",
      "The city being processed is: rocha | 3440777\n",
      "The city being processed is: sandwick | 2638534\n",
      "The city being processed is: kaseda | 1859964\n",
      "The city being processed is: rapid city | 5768233\n",
      "The city being processed is: mitsamiouli | 921786\n",
      "The city being processed is: beringovskiy | 2126710\n",
      "The city being processed is: sahiwal | 1166547\n",
      "The city being processed is: charsadda | 1181439\n",
      "The city being processed is: yalta | 688533\n",
      "The city being processed is: coihaique | 3894426\n",
      "The city being processed is: san policarpo | 1688696\n",
      "The city being processed is: yulara | 6355222\n",
      "The city being processed is: caravelas | 3466980\n",
      "The city being processed is: chuy | 3443061\n",
      "The city being processed is: yar-sale | 1486321\n",
      "The city being processed is: bilibino | 2126682\n",
      "The city being processed is: innisfail | 2162683\n",
      "The city being processed is: tsuruoka | 1849563\n",
      "The city being processed is: bam | 141736\n",
      "The city being processed is: port lincoln | 2063036\n",
      "The city being processed is: weyburn | 6179652\n",
      "The city being processed is: zhangye | 1785036\n",
      "The city being processed is: haines junction | 5969025\n",
      "The city being processed is: kawalu | 1640902\n",
      "The city being processed is: hamtramck | 4995197\n",
      "The city being processed is: sherlovaya gora | 2016735\n",
      "The city being processed is: cordoba | 3860259\n",
      "The city being processed is: lasa | 3175096\n",
      "The city being processed is: prince rupert | 6113406\n",
      "The city being processed is: ust-ordynskiy | 2013894\n",
      "The city being processed is: kouango | 2385535\n",
      "The city being processed is: pulandian | 1798490\n",
      "The city being processed is: kidal | 2455290\n",
      "The city being processed is: motril | 2513477\n",
      "The city being processed is: polunochnoye | 1494482\n",
      "The city being processed is: salihli | 302043\n",
      "The city being processed is: hazorasp | 1513957\n",
      "The city being processed is: mackenzie | 6063191\n",
      "The city being processed is: gudibanda | 1270806\n",
      "The city being processed is: jalu | 86049\n",
      "The city being processed is: boende | 218680\n",
      "The city being processed is: te anau | 2181625\n",
      "The city being processed is: vanimo | 2084442\n",
      "The city being processed is: nizwa | 286987\n",
      "The city being processed is: purnia | 1259166\n",
      "The city being processed is: timmins | 6166739\n",
      "The city being processed is: winnemucca | 5710360\n",
      "The city being processed is: stornoway | 2636790\n",
      "The city being processed is: lavrentiya | 4031637\n",
      "The city being processed is: berlevag | 780687\n",
      "The city being processed is: rajshahi | 1185128\n",
      "The city being processed is: ambon | 1651531\n",
      "The city being processed is: sur | 286245\n",
      "The city being processed is: kununurra | 2068110\n",
      "The city being processed is: manali | 1263968\n",
      "The city being processed is: urumqi | 1529102\n",
      "The city being processed is: pau | 2988356\n",
      "The city being processed is: quzhou | 1797264\n",
      "The city being processed is: manaure | 3675504\n",
      "The city being processed is: ponnani | 1259411\n",
      "The city being processed is: linguere | 2249281\n",
      "The city being processed is: san matias | 3444105\n",
      "The city being processed is: cornelius | 4461941\n",
      "The city being processed is: bardiyah | 80509\n",
      "The city being processed is: jega | 2336237\n",
      "The city being processed is: ixtapa | 4004293\n",
      "The city being processed is: ochsenfurt | 2858333\n",
      "The city being processed is: padang | 1633419\n",
      "The city being processed is: manchar | 1263937\n",
      "The city being processed is: port-cartier | 6111696\n",
      "The city being processed is: awjilah | 88533\n",
      "The city being processed is: rivadavia | 3838759\n",
      "The city being processed is: otavi | 3353934\n",
      "The city being processed is: tete | 1026014\n",
      "The city being processed is: coquimbo | 3893629\n",
      "The city being processed is: pishva | 120972\n",
      "The city being processed is: lukovetskiy | 533418\n",
      "The city being processed is: mehamn | 778707\n",
      "The city being processed is: wlodawa | 755474\n",
      "The city being processed is: daru | 2098329\n",
      "The city being processed is: georgiyevka | 1524243\n",
      "The city being processed is: businga | 217637\n",
      "The city being processed is: pasighat | 1260206\n",
      "The city being processed is: nouadhibou | 2377457\n",
      "The city being processed is: the valley | 3573374\n",
      "The city being processed is: zabol | 1121143\n",
      "The city being processed is: mianyang | 1800627\n",
      "The city being processed is: ico | 3398379\n",
      "The city being processed is: luderitz | 3355672\n",
      "The city being processed is: rennes | 2983989\n",
      "The city being processed is: umm lajj | 100926\n",
      "The city being processed is: florianopolis | 6323121\n",
      "The city being processed is: balila | 250052\n",
      "The city being processed is: paamiut | 3421193\n",
      "The city being processed is: kuldiga | 458460\n",
      "The city being processed is: libenge | 2313762\n",
      "The city being processed is: mizdah | 2214827\n",
      "The city being processed is: lodja | 211647\n",
      "The city being processed is: lagunas | 3695844\n",
      "The city being processed is: morvi | 1262775\n",
      "The city being processed is: marawi | 1701054\n",
      "The city being processed is: taltal | 3870243\n",
      "The city being processed is: dakar | 2253354\n",
      "The city being processed is: prenzlau | 2852218\n",
      "The city being processed is: teahupoo | 4033543\n",
      "The city being processed is: tirano | 3165647\n",
      "The city being processed is: sussex | 5105168\n",
      "The city being processed is: chapais | 5919850\n",
      "The city being processed is: saldanha | 3361934\n",
      "The city being processed is: salvador | 3585968\n",
      "The city being processed is: herat | 1140025\n",
      "The city being processed is: lazaro cardenas | 4026082\n",
      "The city being processed is: beyneu | 610298\n",
      "The city being processed is: erenhot | 2037485\n",
      "The city being processed is: gigmoto | 1712961\n",
      "The city being processed is: freeport | 5117949\n",
      "The city being processed is: novyy urengoy | 1496511\n",
      "The city being processed is: longyearbyen | 2729907\n",
      "The city being processed is: gidole | 336526\n",
      "The city being processed is: dzhebariki-khaya | 2024626\n",
      "The city being processed is: challans | 3027513\n",
      "The city being processed is: las cruces | 5475352\n",
      "The city being processed is: kloulklubed | 7671223\n",
      "The city being processed is: kavaratti | 1267390\n",
      "The city being processed is: alappuzha | 1278985\n",
      "The city being processed is: biak | 1637001\n",
      "The city being processed is: lata | 2738381\n",
      "The city being processed is: mana | 3381041\n",
      "The city being processed is: moundsville | 4815462\n",
      "The city being processed is: kargil | 1267776\n",
      "The city being processed is: geraldton | 2070998\n",
      "The city being processed is: ayan | 2027316\n",
      "The city being processed is: charlestown | 2171766\n",
      "The city being processed is: victoriaville | 6174151\n",
      "The city being processed is: hargeysa | 57289\n",
      "The city being processed is: paris | 2988507\n",
      "The city being processed is: hovd | 1516048\n",
      "The city being processed is: ilula | 159179\n",
      "The city being processed is: benidorm | 2521088\n",
      "The city being processed is: gwanda | 890516\n",
      "The city being processed is: mondlo | 974670\n",
      "The city being processed is: mahebourg | 934322\n",
      "The city being processed is: maumere | 1635815\n",
      "The city being processed is: qui nhon | 1568574\n",
      "The city being processed is: shubarkuduk | 608271\n",
      "The city being processed is: twin falls | 5610810\n",
      "The city being processed is: rehoboth | 3353540\n",
      "The city being processed is: rio grande | 3451138\n",
      "The city being processed is: tombouctou | 2449066\n",
      "The city being processed is: atyrau | 610529\n",
      "The city being processed is: trinidad | 3902377\n",
      "The city being processed is: emerald | 2167426\n",
      "The city being processed is: praia | 3374333\n",
      "The city being processed is: sao sebastiao | 3448257\n",
      "The city being processed is: chimore | 3920736\n",
      "The city being processed is: chokwe | 1048364\n",
      "The city being processed is: bridlington | 2654728\n",
      "The city being processed is: la reforma | 4000490\n",
      "The city being processed is: clarence town | 2171465\n",
      "The city being processed is: makakilo city | 5850554\n",
      "The city being processed is: serenje | 898912\n",
      "The city being processed is: ciudad valles | 3530582\n",
      "The city being processed is: omboue | 2396853\n",
      "The city being processed is: benghazi | 88319\n",
      "The city being processed is: rajpipla | 1258819\n",
      "The city being processed is: vostok | 2013279\n",
      "The city being processed is: alcantara | 3408073\n",
      "The city being processed is: winston-salem | 4499612\n",
      "The city being processed is: mujiayingzi | 2035707\n",
      "The city being processed is: leh | 1264976\n",
      "The city being processed is: dudinka | 1507116\n",
      "The city being processed is: colwyn bay | 2652513\n",
      "The city being processed is: flin flon | 5954718\n",
      "The city being processed is: chino valley | 5289658\n",
      "The city being processed is: awash | 343134\n",
      "The city being processed is: itororo | 3460542\n",
      "The city being processed is: xai-xai | 1024552\n"
     ]
    }
   ],
   "source": [
    "url = \"http://api.openweathermap.org/data/2.5/weather?\"\n",
    "units = \"metric\"\n",
    "query_url = f\"{url}appid={weather_api_key}&units={units}&q=\"\n",
    "\n",
    "cityweather = []\n",
    "lat = []\n",
    "lng = []\n",
    "temp = []\n",
    "windspeed = []\n",
    "cloudiness = []\n",
    "humidity = [] \n",
    "id_city = []\n",
    "\n",
    "# Loop through the list of cities and perform a request for data on each\n",
    "for city in cities:\n",
    "    response = requests.get(query_url + city).json()\n",
    "    try:\n",
    "        lat.append(response['coord']['lat'])\n",
    "        lng.append(response['coord']['lon'])\n",
    "        temp.append(response['main']['temp_max'])\n",
    "        windspeed.append(response['wind']['speed'])\n",
    "        humidity.append(response['main']['humidity'])\n",
    "        cloudiness.append(response['clouds']['all'])\n",
    "        id_city.append(response['id'])\n",
    "        cityweather.append(city)\n",
    "        print(f\"The city being processed is: {city} | {response['id']}\")\n",
    "    except:\n",
    "        pass\n",
    "\n"
   ]
  },
  {
   "cell_type": "markdown",
   "metadata": {},
   "source": [
    "### Convert Raw Data to DataFrame\n",
    "* Export the city data into a .csv.\n",
    "* Display the DataFrame"
   ]
  },
  {
   "cell_type": "code",
   "execution_count": 102,
   "metadata": {},
   "outputs": [
    {
     "data": {
      "text/html": [
       "<div>\n",
       "<style scoped>\n",
       "    .dataframe tbody tr th:only-of-type {\n",
       "        vertical-align: middle;\n",
       "    }\n",
       "\n",
       "    .dataframe tbody tr th {\n",
       "        vertical-align: top;\n",
       "    }\n",
       "\n",
       "    .dataframe thead th {\n",
       "        text-align: right;\n",
       "    }\n",
       "</style>\n",
       "<table border=\"1\" class=\"dataframe\">\n",
       "  <thead>\n",
       "    <tr style=\"text-align: right;\">\n",
       "      <th></th>\n",
       "      <th>City</th>\n",
       "      <th>Lat</th>\n",
       "      <th>Lng</th>\n",
       "      <th>Max Temp</th>\n",
       "      <th>Wind Speed</th>\n",
       "      <th>Cloudiness</th>\n",
       "      <th>Humidity</th>\n",
       "    </tr>\n",
       "  </thead>\n",
       "  <tbody>\n",
       "    <tr>\n",
       "      <td>0</td>\n",
       "      <td>laguna</td>\n",
       "      <td>38.42</td>\n",
       "      <td>-121.42</td>\n",
       "      <td>6.11</td>\n",
       "      <td>1.59</td>\n",
       "      <td>1</td>\n",
       "      <td>70</td>\n",
       "    </tr>\n",
       "    <tr>\n",
       "      <td>1</td>\n",
       "      <td>clyde river</td>\n",
       "      <td>70.47</td>\n",
       "      <td>-68.59</td>\n",
       "      <td>-29.00</td>\n",
       "      <td>9.30</td>\n",
       "      <td>90</td>\n",
       "      <td>75</td>\n",
       "    </tr>\n",
       "    <tr>\n",
       "      <td>2</td>\n",
       "      <td>port elizabeth</td>\n",
       "      <td>-33.92</td>\n",
       "      <td>25.57</td>\n",
       "      <td>19.00</td>\n",
       "      <td>5.10</td>\n",
       "      <td>90</td>\n",
       "      <td>93</td>\n",
       "    </tr>\n",
       "    <tr>\n",
       "      <td>3</td>\n",
       "      <td>saint-joseph</td>\n",
       "      <td>-21.37</td>\n",
       "      <td>55.62</td>\n",
       "      <td>30.00</td>\n",
       "      <td>7.20</td>\n",
       "      <td>0</td>\n",
       "      <td>62</td>\n",
       "    </tr>\n",
       "    <tr>\n",
       "      <td>4</td>\n",
       "      <td>blagoveshchenka</td>\n",
       "      <td>52.83</td>\n",
       "      <td>79.87</td>\n",
       "      <td>-1.02</td>\n",
       "      <td>7.89</td>\n",
       "      <td>85</td>\n",
       "      <td>86</td>\n",
       "    </tr>\n",
       "  </tbody>\n",
       "</table>\n",
       "</div>"
      ],
      "text/plain": [
       "              City    Lat     Lng  Max Temp  Wind Speed  Cloudiness  Humidity\n",
       "0           laguna  38.42 -121.42      6.11        1.59           1        70\n",
       "1      clyde river  70.47  -68.59    -29.00        9.30          90        75\n",
       "2   port elizabeth -33.92   25.57     19.00        5.10          90        93\n",
       "3     saint-joseph -21.37   55.62     30.00        7.20           0        62\n",
       "4  blagoveshchenka  52.83   79.87     -1.02        7.89          85        86"
      ]
     },
     "execution_count": 102,
     "metadata": {},
     "output_type": "execute_result"
    }
   ],
   "source": [
    "\n",
    "weather_dict = {\n",
    "    \"City\": cityweather,\n",
    "    \"Lat\": lat,\n",
    "    \"Lng\": lng,\n",
    "    \"Max Temp\": temp,\n",
    "    \"Wind Speed\": windspeed,\n",
    "    \"Cloudiness\": cloudiness,\n",
    "    \"Humidity\": humidity \n",
    "}\n",
    "weather_data = pd.DataFrame(weather_dict)\n",
    "weather_data.head()"
   ]
  },
  {
   "cell_type": "code",
   "execution_count": 117,
   "metadata": {},
   "outputs": [
    {
     "data": {
      "text/plain": [
       "City           object\n",
       "Lat           float64\n",
       "Lng           float64\n",
       "Max Temp      float64\n",
       "Wind Speed    float64\n",
       "Cloudiness      int64\n",
       "Humidity        int64\n",
       "dtype: object"
      ]
     },
     "execution_count": 117,
     "metadata": {},
     "output_type": "execute_result"
    }
   ],
   "source": [
    "weather_data.dtypes"
   ]
  },
  {
   "cell_type": "markdown",
   "metadata": {},
   "source": [
    "### Plotting the Data\n",
    "* Use proper labeling of the plots using plot titles (including date of analysis) and axes labels.\n",
    "* Save the plotted figures as .pngs."
   ]
  },
  {
   "cell_type": "markdown",
   "metadata": {},
   "source": [
    "#### Latitude vs. Temperature Plot"
   ]
  },
  {
   "cell_type": "code",
   "execution_count": 126,
   "metadata": {
    "scrolled": true
   },
   "outputs": [
    {
     "data": {
      "image/png": "[encoded data removed]",
      "text/plain": [
       "<Figure size 432x288 with 1 Axes>"
      ]
     },
     "metadata": {
      "needs_background": "light"
     },
     "output_type": "display_data"
    }
   ],
   "source": [
    "plt.scatter(weather_data[\"Lat\"], weather_data[\"Max Temp\"], marker=\"o\")\n",
    "\n",
    "# Incorporate the other graph properties\n",
    "plt.title(\"Temperature in World Cities\")\n",
    "plt.ylabel(\"Temperature (Celsius)\")\n",
    "plt.xlabel(\"Latitude\")\n",
    "plt.grid(True)"
   ]
  },
  {
   "cell_type": "markdown",
   "metadata": {},
   "source": [
    "#### Latitude vs. Humidity Plot"
   ]
  },
  {
   "cell_type": "code",
   "execution_count": 106,
   "metadata": {},
   "outputs": [
    {
     "data": {
      "image/png": "[encoded data removed]",
      "text/plain": [
       "<Figure size 432x288 with 1 Axes>"
      ]
     },
     "metadata": {
      "needs_background": "light"
     },
     "output_type": "display_data"
    }
   ],
   "source": [
    "plt.scatter(weather_data[\"Lat\"], weather_data[\"Humidity\"], marker=\"o\")\n",
    "\n",
    "# Incorporate the other graph properties\n",
    "plt.title(\"Humidity in World Cities\")\n",
    "plt.ylabel(\"Humidity\")\n",
    "plt.xlabel(\"Latitude\")\n",
    "plt.grid(True)"
   ]
  },
  {
   "cell_type": "markdown",
   "metadata": {},
   "source": [
    "#### Latitude vs. Cloudiness Plot"
   ]
  },
  {
   "cell_type": "code",
   "execution_count": 107,
   "metadata": {},
   "outputs": [
    {
     "data": {
      "image/png": "[encoded data removed]",
      "text/plain": [
       "<Figure size 432x288 with 1 Axes>"
      ]
     },
     "metadata": {
      "needs_background": "light"
     },
     "output_type": "display_data"
    }
   ],
   "source": [
    "plt.scatter(weather_data[\"Lat\"], weather_data[\"Cloudiness\"], marker=\"o\")\n",
    "\n",
    "# Incorporate the other graph properties\n",
    "plt.title(\"Cloudiness in World Cities\")\n",
    "plt.ylabel(\"Cloudiness\")\n",
    "plt.xlabel(\"Latitude\")\n",
    "plt.grid(True)"
   ]
  },
  {
   "cell_type": "markdown",
   "metadata": {},
   "source": [
    "#### Latitude vs. Wind Speed Plot"
   ]
  },
  {
   "cell_type": "code",
   "execution_count": 108,
   "metadata": {},
   "outputs": [
    {
     "data": {
      "image/png": "[encoded data removed]",
      "text/plain": [
       "<Figure size 432x288 with 1 Axes>"
      ]
     },
     "metadata": {
      "needs_background": "light"
     },
     "output_type": "display_data"
    }
   ],
   "source": [
    "plt.scatter(weather_data[\"Lat\"], weather_data[\"Wind Speed\"], marker=\"o\")\n",
    "\n",
    "# Incorporate the other graph properties\n",
    "plt.title(\"Wind Speed in World Cities\")\n",
    "plt.ylabel(\"Wind Speed\")\n",
    "plt.xlabel(\"Latitude\")\n",
    "plt.grid(True)"
   ]
  },
  {
   "cell_type": "markdown",
   "metadata": {},
   "source": [
    "## Linear Regression"
   ]
  },
  {
   "cell_type": "code",
   "execution_count": 108,
   "metadata": {},
   "outputs": [],
   "source": [
    "# OPTIONAL: Create a function to create Linear Regression plots\n"
   ]
  },
  {
   "cell_type": "code",
   "execution_count": 122,
   "metadata": {},
   "outputs": [
    {
     "data": {
      "text/html": [
       "<div>\n",
       "<style scoped>\n",
       "    .dataframe tbody tr th:only-of-type {\n",
       "        vertical-align: middle;\n",
       "    }\n",
       "\n",
       "    .dataframe tbody tr th {\n",
       "        vertical-align: top;\n",
       "    }\n",
       "\n",
       "    .dataframe thead th {\n",
       "        text-align: right;\n",
       "    }\n",
       "</style>\n",
       "<table border=\"1\" class=\"dataframe\">\n",
       "  <thead>\n",
       "    <tr style=\"text-align: right;\">\n",
       "      <th></th>\n",
       "      <th>City</th>\n",
       "      <th>Lat</th>\n",
       "      <th>Lng</th>\n",
       "      <th>Max Temp</th>\n",
       "      <th>Wind Speed</th>\n",
       "      <th>Cloudiness</th>\n",
       "      <th>Humidity</th>\n",
       "    </tr>\n",
       "  </thead>\n",
       "  <tbody>\n",
       "    <tr>\n",
       "      <td>0</td>\n",
       "      <td>laguna</td>\n",
       "      <td>38.42</td>\n",
       "      <td>-121.42</td>\n",
       "      <td>6.11</td>\n",
       "      <td>1.59</td>\n",
       "      <td>1</td>\n",
       "      <td>70</td>\n",
       "    </tr>\n",
       "    <tr>\n",
       "      <td>1</td>\n",
       "      <td>clyde river</td>\n",
       "      <td>70.47</td>\n",
       "      <td>-68.59</td>\n",
       "      <td>-29.00</td>\n",
       "      <td>9.30</td>\n",
       "      <td>90</td>\n",
       "      <td>75</td>\n",
       "    </tr>\n",
       "    <tr>\n",
       "      <td>4</td>\n",
       "      <td>blagoveshchenka</td>\n",
       "      <td>52.83</td>\n",
       "      <td>79.87</td>\n",
       "      <td>-1.02</td>\n",
       "      <td>7.89</td>\n",
       "      <td>85</td>\n",
       "      <td>86</td>\n",
       "    </tr>\n",
       "    <tr>\n",
       "      <td>5</td>\n",
       "      <td>foki</td>\n",
       "      <td>56.69</td>\n",
       "      <td>54.35</td>\n",
       "      <td>-12.22</td>\n",
       "      <td>3.34</td>\n",
       "      <td>100</td>\n",
       "      <td>91</td>\n",
       "    </tr>\n",
       "    <tr>\n",
       "      <td>6</td>\n",
       "      <td>kapaa</td>\n",
       "      <td>22.08</td>\n",
       "      <td>-159.32</td>\n",
       "      <td>20.00</td>\n",
       "      <td>5.70</td>\n",
       "      <td>90</td>\n",
       "      <td>100</td>\n",
       "    </tr>\n",
       "  </tbody>\n",
       "</table>\n",
       "</div>"
      ],
      "text/plain": [
       "              City    Lat     Lng  Max Temp  Wind Speed  Cloudiness  Humidity\n",
       "0           laguna  38.42 -121.42      6.11        1.59           1        70\n",
       "1      clyde river  70.47  -68.59    -29.00        9.30          90        75\n",
       "4  blagoveshchenka  52.83   79.87     -1.02        7.89          85        86\n",
       "5             foki  56.69   54.35    -12.22        3.34         100        91\n",
       "6            kapaa  22.08 -159.32     20.00        5.70          90       100"
      ]
     },
     "execution_count": 122,
     "metadata": {},
     "output_type": "execute_result"
    }
   ],
   "source": [
    "# Create Northern and Southern Hemisphere DataFrames\n",
    "northern = weather_data.loc[(weather_data['Lat'] >= 0)]\n",
    "northern.head()\n"
   ]
  },
  {
   "cell_type": "code",
   "execution_count": 128,
   "metadata": {},
   "outputs": [
    {
     "data": {
      "text/html": [
       "<div>\n",
       "<style scoped>\n",
       "    .dataframe tbody tr th:only-of-type {\n",
       "        vertical-align: middle;\n",
       "    }\n",
       "\n",
       "    .dataframe tbody tr th {\n",
       "        vertical-align: top;\n",
       "    }\n",
       "\n",
       "    .dataframe thead th {\n",
       "        text-align: right;\n",
       "    }\n",
       "</style>\n",
       "<table border=\"1\" class=\"dataframe\">\n",
       "  <thead>\n",
       "    <tr style=\"text-align: right;\">\n",
       "      <th></th>\n",
       "      <th>City</th>\n",
       "      <th>Lat</th>\n",
       "      <th>Lng</th>\n",
       "      <th>Max Temp</th>\n",
       "      <th>Wind Speed</th>\n",
       "      <th>Cloudiness</th>\n",
       "      <th>Humidity</th>\n",
       "    </tr>\n",
       "  </thead>\n",
       "  <tbody>\n",
       "    <tr>\n",
       "      <td>2</td>\n",
       "      <td>port elizabeth</td>\n",
       "      <td>-33.92</td>\n",
       "      <td>25.57</td>\n",
       "      <td>19.00</td>\n",
       "      <td>5.10</td>\n",
       "      <td>90</td>\n",
       "      <td>93</td>\n",
       "    </tr>\n",
       "    <tr>\n",
       "      <td>3</td>\n",
       "      <td>saint-joseph</td>\n",
       "      <td>-21.37</td>\n",
       "      <td>55.62</td>\n",
       "      <td>30.00</td>\n",
       "      <td>7.20</td>\n",
       "      <td>0</td>\n",
       "      <td>62</td>\n",
       "    </tr>\n",
       "    <tr>\n",
       "      <td>10</td>\n",
       "      <td>castro</td>\n",
       "      <td>-24.79</td>\n",
       "      <td>-50.01</td>\n",
       "      <td>20.28</td>\n",
       "      <td>1.22</td>\n",
       "      <td>75</td>\n",
       "      <td>88</td>\n",
       "    </tr>\n",
       "    <tr>\n",
       "      <td>13</td>\n",
       "      <td>airai</td>\n",
       "      <td>-8.93</td>\n",
       "      <td>125.41</td>\n",
       "      <td>20.99</td>\n",
       "      <td>0.62</td>\n",
       "      <td>100</td>\n",
       "      <td>95</td>\n",
       "    </tr>\n",
       "    <tr>\n",
       "      <td>15</td>\n",
       "      <td>ushuaia</td>\n",
       "      <td>-54.80</td>\n",
       "      <td>-68.30</td>\n",
       "      <td>7.00</td>\n",
       "      <td>1.38</td>\n",
       "      <td>31</td>\n",
       "      <td>81</td>\n",
       "    </tr>\n",
       "  </tbody>\n",
       "</table>\n",
       "</div>"
      ],
      "text/plain": [
       "              City    Lat     Lng  Max Temp  Wind Speed  Cloudiness  Humidity\n",
       "2   port elizabeth -33.92   25.57     19.00        5.10          90        93\n",
       "3     saint-joseph -21.37   55.62     30.00        7.20           0        62\n",
       "10          castro -24.79  -50.01     20.28        1.22          75        88\n",
       "13           airai  -8.93  125.41     20.99        0.62         100        95\n",
       "15         ushuaia -54.80  -68.30      7.00        1.38          31        81"
      ]
     },
     "execution_count": 128,
     "metadata": {},
     "output_type": "execute_result"
    }
   ],
   "source": [
    "southern = weather_data.loc[(weather_data['Lat'] < 0)]\n",
    "southern.head()"
   ]
  },
  {
   "cell_type": "markdown",
   "metadata": {},
   "source": [
    "####  Northern Hemisphere - Max Temp vs. Latitude Linear Regression"
   ]
  },
  {
   "cell_type": "code",
   "execution_count": 127,
   "metadata": {},
   "outputs": [
    {
     "name": "stdout",
     "output_type": "stream",
     "text": [
      "The r-squared is: -0.833012150347256\n"
     ]
    },
    {
     "data": {
      "image/png": "[encoded data removed]",
      "text/plain": [
       "<Figure size 432x288 with 1 Axes>"
      ]
     },
     "metadata": {
      "needs_background": "light"
     },
     "output_type": "display_data"
    }
   ],
   "source": [
    "x = northern['Lat']\n",
    "y = northern['Max Temp']\n",
    "(slope, intercept, rvalue, pvalue, stderr) = linregress(x, y)\n",
    "regress_values = x * slope + intercept\n",
    "line_eq = \"y = \" + str(round(slope,2)) + \"x + \" + str(round(intercept,2))\n",
    "plt.scatter(x,y)\n",
    "plt.plot(x,regress_values,\"r-\")\n",
    "plt.annotate(line_eq,(6,10),fontsize=15,color=\"red\")\n",
    "plt.xlabel('Latitude')\n",
    "plt.ylabel('Max Temp')\n",
    "print(f\"The r-squared is: {rvalue}\")\n",
    "plt.show()\n",
    "plt.savefig(\"../Images/temp_lat_linreg_north.png\")"
   ]
  },
  {
   "cell_type": "markdown",
   "metadata": {},
   "source": [
    "####  Southern Hemisphere - Max Temp vs. Latitude Linear Regression"
   ]
  },
  {
   "cell_type": "code",
   "execution_count": 139,
   "metadata": {},
   "outputs": [
    {
     "name": "stdout",
     "output_type": "stream",
     "text": [
      "The r-squared is: 0.5500947353281409\n"
     ]
    },
    {
     "data": {
      "image/png": "[encoded data removed]",
      "text/plain": [
       "<Figure size 432x288 with 1 Axes>"
      ]
     },
     "metadata": {
      "needs_background": "light"
     },
     "output_type": "display_data"
    }
   ],
   "source": [
    "x = southern['Lat']\n",
    "y = southern['Max Temp']\n",
    "(slope, intercept, rvalue, pvalue, stderr) = linregress(x, y)\n",
    "regress_values = x * slope + intercept\n",
    "line_eq = \"y = \" + str(round(slope,2)) + \"x + \" + str(round(intercept,2))\n",
    "plt.scatter(x,y)\n",
    "plt.plot(x,regress_values,\"r-\")\n",
    "plt.annotate(line_eq,(6,10),fontsize=15,color=\"red\")\n",
    "plt.xlabel('Latitude')\n",
    "plt.ylabel('Max Temp')\n",
    "print(f\"The r-squared is: {rvalue}\")\n",
    "plt.show()\n",
    "plt.savefig(\"../Images/temp_lat_linreg_south.png\")"
   ]
  },
  {
   "cell_type": "markdown",
   "metadata": {},
   "source": [
    "####  Northern Hemisphere - Humidity (%) vs. Latitude Linear Regression"
   ]
  },
  {
   "cell_type": "code",
   "execution_count": 132,
   "metadata": {},
   "outputs": [
    {
     "name": "stdout",
     "output_type": "stream",
     "text": [
      "The r-squared is: 0.4437404070864202\n"
     ]
    },
    {
     "data": {
      "image/png": "[encoded data removed]",
      "text/plain": [
       "<Figure size 432x288 with 1 Axes>"
      ]
     },
     "metadata": {
      "needs_background": "light"
     },
     "output_type": "display_data"
    }
   ],
   "source": [
    "x = northern['Lat']\n",
    "y = northern['Humidity']\n",
    "(slope, intercept, rvalue, pvalue, stderr) = linregress(x, y)\n",
    "regress_values = x * slope + intercept\n",
    "line_eq = \"y = \" + str(round(slope,2)) + \"x + \" + str(round(intercept,2))\n",
    "plt.scatter(x,y)\n",
    "plt.plot(x,regress_values,\"r-\")\n",
    "plt.annotate(line_eq,(6,10),fontsize=15,color=\"red\")\n",
    "plt.xlabel('Latitude')\n",
    "plt.ylabel('Humidity')\n",
    "print(f\"The r-squared is: {rvalue}\")\n",
    "plt.show()\n",
    "plt.savefig(\"../Images/humidity_lat_linreg_north.png\")"
   ]
  },
  {
   "cell_type": "markdown",
   "metadata": {},
   "source": [
    "####  Southern Hemisphere - Humidity (%) vs. Latitude Linear Regression"
   ]
  },
  {
   "cell_type": "code",
   "execution_count": 133,
   "metadata": {},
   "outputs": [
    {
     "name": "stdout",
     "output_type": "stream",
     "text": [
      "The r-squared is: -0.009528854977533228\n"
     ]
    },
    {
     "data": {
      "image/png": "[encoded data removed]",
      "text/plain": [
       "<Figure size 432x288 with 1 Axes>"
      ]
     },
     "metadata": {
      "needs_background": "light"
     },
     "output_type": "display_data"
    }
   ],
   "source": [
    "x = southern['Lat']\n",
    "y = southern['Humidity']\n",
    "(slope, intercept, rvalue, pvalue, stderr) = linregress(x, y)\n",
    "regress_values = x * slope + intercept\n",
    "line_eq = \"y = \" + str(round(slope,2)) + \"x + \" + str(round(intercept,2))\n",
    "plt.scatter(x,y)\n",
    "plt.plot(x,regress_values,\"r-\")\n",
    "plt.annotate(line_eq,(6,10),fontsize=15,color=\"red\")\n",
    "plt.xlabel('Latitude')\n",
    "plt.ylabel('Humidity')\n",
    "print(f\"The r-squared is: {rvalue}\")\n",
    "plt.show()\n",
    "plt.savefig(\"../Images/humidity_lat_linreg_south.png\")"
   ]
  },
  {
   "cell_type": "markdown",
   "metadata": {},
   "source": [
    "####  Northern Hemisphere - Cloudiness (%) vs. Latitude Linear Regression"
   ]
  },
  {
   "cell_type": "code",
   "execution_count": 134,
   "metadata": {},
   "outputs": [
    {
     "name": "stdout",
     "output_type": "stream",
     "text": [
      "The r-squared is: 0.2283133159258368\n"
     ]
    },
    {
     "data": {
      "image/png": "[encoded data removed]",
      "text/plain": [
       "<Figure size 432x288 with 1 Axes>"
      ]
     },
     "metadata": {
      "needs_background": "light"
     },
     "output_type": "display_data"
    }
   ],
   "source": [
    "x = northern['Lat']\n",
    "y = northern['Cloudiness']\n",
    "(slope, intercept, rvalue, pvalue, stderr) = linregress(x, y)\n",
    "regress_values = x * slope + intercept\n",
    "line_eq = \"y = \" + str(round(slope,2)) + \"x + \" + str(round(intercept,2))\n",
    "plt.scatter(x,y)\n",
    "plt.plot(x,regress_values,\"r-\")\n",
    "plt.annotate(line_eq,(6,10),fontsize=15,color=\"red\")\n",
    "plt.xlabel('Latitude')\n",
    "plt.ylabel('Cloudiness')\n",
    "print(f\"The r-squared is: {rvalue}\")\n",
    "plt.show()\n",
    "plt.savefig(\"../Images/cloudiness_lat_linreg_north.png\")"
   ]
  },
  {
   "cell_type": "markdown",
   "metadata": {},
   "source": [
    "####  Southern Hemisphere - Cloudiness (%) vs. Latitude Linear Regression"
   ]
  },
  {
   "cell_type": "code",
   "execution_count": 136,
   "metadata": {},
   "outputs": [
    {
     "name": "stdout",
     "output_type": "stream",
     "text": [
      "The r-squared is: 0.3110141906882071\n"
     ]
    },
    {
     "data": {
      "image/png": "[encoded data removed]",
      "text/plain": [
       "<Figure size 432x288 with 1 Axes>"
      ]
     },
     "metadata": {
      "needs_background": "light"
     },
     "output_type": "display_data"
    }
   ],
   "source": [
    "x = southern['Lat']\n",
    "y = southern['Cloudiness']\n",
    "(slope, intercept, rvalue, pvalue, stderr) = linregress(x, y)\n",
    "regress_values = x * slope + intercept\n",
    "line_eq = \"y = \" + str(round(slope,2)) + \"x + \" + str(round(intercept,2))\n",
    "plt.scatter(x,y)\n",
    "plt.plot(x,regress_values,\"r-\")\n",
    "plt.annotate(line_eq,(6,10),fontsize=15,color=\"red\")\n",
    "plt.xlabel('Latitude')\n",
    "plt.ylabel('Cloudiness')\n",
    "print(f\"The r-squared is: {rvalue}\")\n",
    "plt.show()\n",
    "plt.savefig(\"../Images/cloudiness_lat_linreg_south.png\")"
   ]
  },
  {
   "cell_type": "markdown",
   "metadata": {},
   "source": [
    "####  Northern Hemisphere - Wind Speed (mph) vs. Latitude Linear Regression"
   ]
  },
  {
   "cell_type": "code",
   "execution_count": 137,
   "metadata": {},
   "outputs": [
    {
     "name": "stdout",
     "output_type": "stream",
     "text": [
      "The r-squared is: 0.055275315310746385\n"
     ]
    },
    {
     "data": {
      "image/png": "[encoded data removed]",
      "text/plain": [
       "<Figure size 432x288 with 1 Axes>"
      ]
     },
     "metadata": {
      "needs_background": "light"
     },
     "output_type": "display_data"
    }
   ],
   "source": [
    "x = northern['Lat']\n",
    "y = northern['Wind Speed']\n",
    "(slope, intercept, rvalue, pvalue, stderr) = linregress(x, y)\n",
    "regress_values = x * slope + intercept\n",
    "line_eq = \"y = \" + str(round(slope,2)) + \"x + \" + str(round(intercept,2))\n",
    "plt.scatter(x,y)\n",
    "plt.plot(x,regress_values,\"r-\")\n",
    "plt.annotate(line_eq,(6,10),fontsize=15,color=\"red\")\n",
    "plt.xlabel('Latitude')\n",
    "plt.ylabel('Wind Speed')\n",
    "print(f\"The r-squared is: {rvalue}\")\n",
    "plt.show()\n",
    "plt.savefig(\"../Images/windspeed_lat_linreg_north.png\")"
   ]
  },
  {
   "cell_type": "markdown",
   "metadata": {},
   "source": [
    "####  Southern Hemisphere - Wind Speed (mph) vs. Latitude Linear Regression"
   ]
  },
  {
   "cell_type": "code",
   "execution_count": 138,
   "metadata": {},
   "outputs": [
    {
     "name": "stdout",
     "output_type": "stream",
     "text": [
      "The r-squared is: -0.14339349287379777\n"
     ]
    },
    {
     "data": {
      "image/png": "[encoded data removed]",
      "text/plain": [
       "<Figure size 432x288 with 1 Axes>"
      ]
     },
     "metadata": {
      "needs_background": "light"
     },
     "output_type": "display_data"
    }
   ],
   "source": [
    "x = southern['Lat']\n",
    "y = southern['Wind Speed']\n",
    "(slope, intercept, rvalue, pvalue, stderr) = linregress(x, y)\n",
    "regress_values = x * slope + intercept\n",
    "line_eq = \"y = \" + str(round(slope,2)) + \"x + \" + str(round(intercept,2))\n",
    "plt.scatter(x,y)\n",
    "plt.plot(x,regress_values,\"r-\")\n",
    "plt.annotate(line_eq,(6,10),fontsize=15,color=\"red\")\n",
    "plt.xlabel('Latitude')\n",
    "plt.ylabel('Wind Speed')\n",
    "print(f\"The r-squared is: {rvalue}\")\n",
    "plt.show()\n",
    "plt.savefig(\"../Images/windspeed_lat_linreg_south.png\")"
   ]
  },
  {
   "cell_type": "code",
   "execution_count": 140,
   "metadata": {},
   "outputs": [],
   "source": [
    "weather_data.to_csv('my_weather_data.csv')"
   ]
  },
  {
   "cell_type": "code",
   "execution_count": null,
   "metadata": {},
   "outputs": [],
   "source": []
  }
 ],
 "metadata": {
  "anaconda-cloud": {},
  "kernel_info": {
   "name": "python3"
  },
  "kernelspec": {
   "display_name": "Python 3",
   "language": "python",
   "name": "python3"
  },
  "language_info": {
   "codemirror_mode": {
    "name": "ipython",
    "version": 3
   },
   "file_extension": ".py",
   "mimetype": "text/x-python",
   "name": "python",
   "nbconvert_exporter": "python",
   "pygments_lexer": "ipython3",
   "version": "3.7.4"
  },
  "latex_envs": {
   "LaTeX_envs_menu_present": true,
   "autoclose": false,
   "autocomplete": true,
   "bibliofile": "biblio.bib",
   "cite_by": "apalike",
   "current_citInitial": 1,
   "eqLabelWithNumbers": true,
   "eqNumInitial": 1,
   "hotkeys": {
    "equation": "Ctrl-E",
    "itemize": "Ctrl-I"
   },
   "labels_anchors": false,
   "latex_user_defs": false,
   "report_style_numbering": false,
   "user_envs_cfg": false
  },
  "nteract": {
   "version": "0.12.3"
  }
 },
 "nbformat": 4,
 "nbformat_minor": 4
}
