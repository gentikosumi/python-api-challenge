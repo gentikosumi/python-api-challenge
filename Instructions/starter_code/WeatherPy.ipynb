{
 "cells": [
  {
   "cell_type": "markdown",
   "metadata": {},
   "source": [
    "# WeatherPy\n",
    "----\n",
    "\n",
    "#### Note\n",
    "* Instructions have been included for each segment. You do not have to follow them exactly, but they are included to help you think through the steps."
   ]
  },
  {
   "cell_type": "code",
   "execution_count": 7,
   "metadata": {
    "scrolled": true
   },
   "outputs": [],
   "source": [
    "# Dependencies and Setup\n",
    "import matplotlib.pyplot as plt\n",
    "import pandas as pd\n",
    "import numpy as np\n",
    "import requests\n",
    "import time\n",
    "from scipy.stats import linregress\n",
    "\n",
    "# Import API key\n",
    "from api_keys import weather_api_key\n",
    "\n",
    "# Incorporated citipy to determine city based on latitude and longitude\n",
    "from citipy import citipy\n",
    "\n",
    "# Output File (CSV)\n",
    "output_data_file = \"output_data/cities.csv\"\n",
    "\n",
    "# Range of latitudes and longitudes\n",
    "lat_range = (-90, 90)\n",
    "lng_range = (-180, 180)"
   ]
  },
  {
   "cell_type": "markdown",
   "metadata": {},
   "source": [
    "## Generate Cities List"
   ]
  },
  {
   "cell_type": "code",
   "execution_count": 8,
   "metadata": {},
   "outputs": [
    {
     "data": {
      "text/plain": [
       "605"
      ]
     },
     "execution_count": 8,
     "metadata": {},
     "output_type": "execute_result"
    }
   ],
   "source": [
    "# List for holding lat_lngs and cities\n",
    "lat_lngs = []\n",
    "cities = []\n",
    "\n",
    "# Create a set of random lat and lng combinations\n",
    "lats = np.random.uniform(low=-90.000, high=90.000, size=1500)\n",
    "lngs = np.random.uniform(low=-180.000, high=180.000, size=1500)\n",
    "lat_lngs = zip(lats, lngs)\n",
    "\n",
    "# Identify nearest city for each lat, lng combination\n",
    "for lat_lng in lat_lngs:\n",
    "    city = citipy.nearest_city(lat_lng[0], lat_lng[1]).city_name\n",
    "    \n",
    "    # If the city is unique, then add it to a our cities list\n",
    "    if city not in cities:\n",
    "        cities.append(city)\n",
    "\n",
    "# Print the city count to confirm sufficient count\n",
    "len(cities)"
   ]
  },
  {
   "cell_type": "markdown",
   "metadata": {},
   "source": [
    "### Perform API Calls\n",
    "* Perform a weather check on each city using a series of successive API calls.\n",
    "* Include a print log of each city as it'sbeing processed (with the city number and city name).\n"
   ]
  },
  {
   "cell_type": "code",
   "execution_count": 9,
   "metadata": {},
   "outputs": [
    {
     "name": "stdout",
     "output_type": "stream",
     "text": [
      "The city being processed is: ushuaia | 3833367\n",
      "The city being processed is: forio | 3176748\n",
      "The city being processed is: mianyang | 1800627\n",
      "The city being processed is: punta arenas | 3874787\n",
      "The city being processed is: hilo | 5855927\n",
      "The city being processed is: itarema | 3393692\n",
      "The city being processed is: nikki | 2392505\n",
      "The city being processed is: barrow | 5880054\n",
      "The city being processed is: kaeo | 2189343\n",
      "The city being processed is: faanui | 4034551\n",
      "The city being processed is: vaini | 4032243\n",
      "The city being processed is: upernavik | 3418910\n",
      "The city being processed is: rikitea | 4030556\n",
      "The city being processed is: bethel | 5282297\n",
      "The city being processed is: albany | 5106841\n",
      "The city being processed is: georgetown | 1735106\n",
      "The city being processed is: tahta | 347634\n",
      "The city being processed is: thompson | 6165406\n",
      "The city being processed is: kapaa | 5848280\n",
      "The city being processed is: kalmunai | 1242110\n",
      "The city being processed is: mahebourg | 934322\n",
      "The city being processed is: hobart | 2163355\n",
      "The city being processed is: tessalit | 2449893\n",
      "The city being processed is: pacific grove | 5380437\n",
      "The city being processed is: banda aceh | 1215502\n",
      "The city being processed is: changqing | 1815585\n",
      "The city being processed is: broome | 5110365\n",
      "The city being processed is: east london | 1006984\n",
      "The city being processed is: tongren | 1792592\n",
      "The city being processed is: baghmara | 1274553\n",
      "The city being processed is: port alfred | 964432\n",
      "The city being processed is: khatanga | 2022572\n",
      "The city being processed is: mogadishu | 53654\n",
      "The city being processed is: ayagoz | 1525988\n",
      "The city being processed is: nueva gerona | 3545867\n",
      "The city being processed is: mataura | 6201424\n",
      "The city being processed is: bathsheba | 3374083\n",
      "The city being processed is: zalantun | 2033225\n",
      "The city being processed is: yellowknife | 6185377\n",
      "The city being processed is: sorland | 3137469\n",
      "The city being processed is: fuling | 1810979\n",
      "The city being processed is: saskylakh | 2017155\n",
      "The city being processed is: obo | 236950\n",
      "The city being processed is: oranjemund | 3354071\n",
      "The city being processed is: palmer | 4946620\n",
      "The city being processed is: jamestown | 5122534\n",
      "The city being processed is: the valley | 3573374\n",
      "The city being processed is: amanpur | 1278921\n",
      "The city being processed is: kirakira | 2178753\n",
      "The city being processed is: kampene | 214575\n",
      "The city being processed is: puerto ayora | 3652764\n",
      "The city being processed is: wewak | 2083537\n",
      "The city being processed is: cidreira | 3466165\n",
      "The city being processed is: camopi | 3382226\n",
      "The city being processed is: japura | 1642773\n",
      "The city being processed is: russell | 4047434\n",
      "The city being processed is: cape town | 3369157\n",
      "The city being processed is: ikom | 2338242\n",
      "The city being processed is: chokurdakh | 2126123\n",
      "The city being processed is: port lincoln | 2063036\n",
      "The city being processed is: lazurne | 703317\n",
      "The city being processed is: castro | 3466704\n",
      "The city being processed is: kyshtovka | 1501000\n",
      "The city being processed is: mwene-ditu | 207570\n",
      "The city being processed is: carauari | 3664659\n",
      "The city being processed is: brest | 629634\n",
      "The city being processed is: avarua | 4035715\n",
      "The city being processed is: khuzdar | 7082481\n",
      "The city being processed is: mihail kogalniceanu | 673382\n",
      "The city being processed is: busselton | 2075265\n",
      "The city being processed is: new norfolk | 2155415\n",
      "The city being processed is: kruisfontein | 986717\n",
      "The city being processed is: guhagar | 1270779\n",
      "The city being processed is: nha trang | 1572151\n",
      "The city being processed is: port macquarie | 2152659\n",
      "The city being processed is: tonj | 365763\n",
      "The city being processed is: ginir | 336454\n",
      "The city being processed is: kodiak | 5866583\n",
      "The city being processed is: lanxi | 1804442\n",
      "The city being processed is: ligatne | 457912\n",
      "The city being processed is: jiaonan | 1792087\n",
      "The city being processed is: geraldton | 2070998\n",
      "The city being processed is: hermanus | 3366880\n",
      "The city being processed is: galle | 1246294\n",
      "The city being processed is: maceio | 3395981\n",
      "The city being processed is: soyo | 2236967\n",
      "The city being processed is: tiksi | 2015306\n",
      "The city being processed is: ponta do sol | 2264557\n",
      "The city being processed is: harrison | 4429197\n",
      "The city being processed is: dingle | 1714733\n",
      "The city being processed is: torbay | 6167817\n",
      "The city being processed is: half moon bay | 5354943\n",
      "The city being processed is: bredasdorp | 1015776\n",
      "The city being processed is: souillac | 933995\n",
      "The city being processed is: myingyan | 1307835\n",
      "The city being processed is: cap malheureux | 934649\n",
      "The city being processed is: bandarbeyla | 64814\n",
      "The city being processed is: todos santos | 3981432\n",
      "The city being processed is: jieshi | 1805857\n",
      "The city being processed is: butaritari | 2110227\n",
      "The city being processed is: provideniya | 4031574\n",
      "The city being processed is: namibe | 3347019\n",
      "The city being processed is: la oroya | 3936952\n",
      "The city being processed is: havoysund | 779622\n",
      "The city being processed is: san juan | 3837213\n",
      "The city being processed is: salta | 3838233\n",
      "The city being processed is: cabo san lucas | 3985710\n",
      "The city being processed is: rawson | 3839307\n",
      "The city being processed is: pevek | 2122090\n",
      "The city being processed is: weihe | 7372400\n",
      "The city being processed is: atuona | 4020109\n",
      "The city being processed is: annau | 162199\n",
      "The city being processed is: andenes | 3163146\n",
      "The city being processed is: ancud | 3899695\n",
      "The city being processed is: pandan | 1695546\n",
      "The city being processed is: aitape | 2101169\n",
      "The city being processed is: tomatlan | 3981391\n",
      "The city being processed is: stity | 3065118\n",
      "The city being processed is: dhangadhi | 1283467\n",
      "The city being processed is: udachnyy | 2014624\n",
      "The city being processed is: esperance | 2071860\n",
      "The city being processed is: fairbanks | 5861897\n",
      "The city being processed is: tocopilla | 3869716\n",
      "The city being processed is: marawi | 1701054\n",
      "The city being processed is: codrington | 2171099\n",
      "The city being processed is: nouadhibou | 2377457\n",
      "The city being processed is: liverpool | 2644210\n",
      "The city being processed is: otane | 2185329\n",
      "The city being processed is: cordoba | 3860259\n",
      "The city being processed is: ribeira grande | 3372707\n",
      "The city being processed is: arraial do cabo | 3471451\n",
      "The city being processed is: yatou | 1786855\n",
      "The city being processed is: norman wells | 6089245\n",
      "The city being processed is: dudinka | 1507116\n",
      "The city being processed is: lavrentiya | 4031637\n",
      "The city being processed is: baruun-urt | 2032614\n",
      "The city being processed is: vagur | 2610806\n",
      "The city being processed is: ola | 2122574\n",
      "The city being processed is: sokolo | 2450849\n",
      "The city being processed is: carnarvon | 2074865\n",
      "The city being processed is: victoria | 1819729\n",
      "The city being processed is: cayenne | 3382160\n",
      "The city being processed is: narsaq | 3421719\n",
      "The city being processed is: saint george | 5546220\n",
      "The city being processed is: isangel | 2136825\n",
      "The city being processed is: tezu | 1254709\n",
      "The city being processed is: port hedland | 2063042\n",
      "The city being processed is: bluff | 2206939\n",
      "The city being processed is: hithadhoo | 1282256\n",
      "The city being processed is: booue | 2401495\n",
      "The city being processed is: aykhal | 2027296\n",
      "The city being processed is: tasiilaq | 3424607\n",
      "The city being processed is: muisne | 3653967\n",
      "The city being processed is: cherskiy | 2126199\n",
      "The city being processed is: luderitz | 3355672\n",
      "The city being processed is: jucurutu | 3397108\n",
      "The city being processed is: ostrovnoy | 556268\n",
      "The city being processed is: aku | 2350886\n",
      "The city being processed is: pochutla | 3517970\n",
      "The city being processed is: volsk | 472278\n",
      "The city being processed is: grindavik | 3416888\n",
      "The city being processed is: san patricio | 3985168\n",
      "The city being processed is: talnakh | 1490256\n",
      "The city being processed is: baiquan | 2038541\n",
      "The city being processed is: vila franca do campo | 3372472\n",
      "The city being processed is: shebunino | 2121324\n",
      "The city being processed is: severo-kurilsk | 2121385\n",
      "The city being processed is: port elizabeth | 964420\n",
      "The city being processed is: te anau | 2181625\n",
      "The city being processed is: college | 5859699\n",
      "The city being processed is: kralendijk | 3513563\n",
      "The city being processed is: tuktoyaktuk | 6170031\n",
      "The city being processed is: longyearbyen | 2729907\n",
      "The city being processed is: manokwari | 1636308\n",
      "The city being processed is: maridi | 370457\n",
      "The city being processed is: mar del plata | 3430863\n"
     ]
    },
    {
     "name": "stdout",
     "output_type": "stream",
     "text": [
      "The city being processed is: mayumba | 2399001\n",
      "The city being processed is: esperanza | 3505855\n",
      "The city being processed is: westport | 4845585\n",
      "The city being processed is: den helder | 2757220\n",
      "The city being processed is: saint-joseph | 6690296\n",
      "The city being processed is: marienburg | 3092472\n",
      "The city being processed is: ulladulla | 2145554\n",
      "The city being processed is: huarmey | 3939168\n",
      "The city being processed is: airai | 1651810\n",
      "The city being processed is: nikolskoye | 546105\n",
      "The city being processed is: olinda | 3393536\n",
      "The city being processed is: kartaly | 1504317\n",
      "The city being processed is: enna | 2524819\n",
      "The city being processed is: verkhnevilyuysk | 2013639\n",
      "The city being processed is: lincoln | 5072006\n",
      "The city being processed is: tautira | 4033557\n",
      "The city being processed is: qaanaaq | 3831208\n",
      "The city being processed is: waipawa | 2206874\n",
      "The city being processed is: mercedes | 3430708\n",
      "The city being processed is: svetlaya | 2015852\n",
      "The city being processed is: dickinson | 4686163\n",
      "The city being processed is: nouakchott | 2377450\n",
      "The city being processed is: vestmannaeyjar | 3412093\n",
      "The city being processed is: faya | 110690\n",
      "The city being processed is: pisco | 3932145\n",
      "The city being processed is: yinchuan | 1786657\n",
      "The city being processed is: manbij | 167357\n",
      "The city being processed is: marsh harbour | 3571913\n",
      "The city being processed is: santa rosalia | 3983805\n",
      "The city being processed is: swan hill | 2147756\n",
      "The city being processed is: prince rupert | 6113406\n",
      "The city being processed is: vao | 2137773\n",
      "The city being processed is: woodward | 4556050\n",
      "The city being processed is: marsaxlokk | 2562247\n",
      "The city being processed is: flinders | 6255012\n",
      "The city being processed is: dikson | 1507390\n",
      "The city being processed is: bolotnoye | 1509819\n",
      "The city being processed is: novosheshminsk | 517958\n",
      "The city being processed is: irupi | 3460991\n",
      "The city being processed is: svetlogorsk | 10722858\n",
      "The city being processed is: tazovskiy | 1489853\n",
      "The city being processed is: valparaiso | 3868626\n",
      "The city being processed is: sabang | 1214026\n",
      "The city being processed is: bongouanou | 2291113\n",
      "The city being processed is: bengkulu | 1649150\n",
      "The city being processed is: bosaso | 64013\n",
      "The city being processed is: vangaindrano | 1054329\n",
      "The city being processed is: cradock | 1012600\n",
      "The city being processed is: los llanos de aridane | 2514651\n",
      "The city being processed is: xam nua | 1652203\n",
      "The city being processed is: picota | 3693646\n",
      "The city being processed is: haines junction | 5969025\n",
      "The city being processed is: pangnirtung | 6096551\n",
      "The city being processed is: gilbues | 3398931\n",
      "The city being processed is: storsteinnes | 3136023\n",
      "The city being processed is: bozuyuk | 320557\n",
      "The city being processed is: yerbogachen | 2012956\n",
      "The city being processed is: guerrero negro | 4021858\n",
      "The city being processed is: sabha | 2212775\n",
      "The city being processed is: meulaboh | 1214488\n",
      "The city being processed is: ryotsu | 1853371\n",
      "The city being processed is: chuy | 3443061\n",
      "The city being processed is: bubaque | 2374583\n",
      "The city being processed is: lebu | 3883457\n",
      "The city being processed is: nayoro | 2128983\n",
      "The city being processed is: leningradskiy | 2123814\n",
      "The city being processed is: escondido | 5346827\n",
      "The city being processed is: klyuchi | 1503153\n",
      "The city being processed is: port-gentil | 2396518\n",
      "The city being processed is: joshimath | 1268814\n",
      "The city being processed is: waingapu | 1622318\n",
      "The city being processed is: maningrida | 2067089\n",
      "The city being processed is: ahipara | 2194098\n",
      "The city being processed is: beringovskiy | 2126710\n",
      "The city being processed is: ust-omchug | 2120047\n",
      "The city being processed is: lasa | 3175096\n",
      "The city being processed is: kaitangata | 2208248\n",
      "The city being processed is: kavieng | 2094342\n",
      "The city being processed is: praia da vitoria | 3372760\n",
      "The city being processed is: upata | 3625710\n",
      "The city being processed is: nakasongola | 228418\n",
      "The city being processed is: chumikan | 2025256\n",
      "The city being processed is: novikovo | 487928\n",
      "The city being processed is: lompoc | 5367788\n",
      "The city being processed is: dese | 339219\n",
      "The city being processed is: sao jose da coroa grande | 3388456\n",
      "The city being processed is: arroio dos ratos | 3471425\n",
      "The city being processed is: hami | 1529484\n",
      "The city being processed is: lugovoy | 1521293\n",
      "The city being processed is: binga | 895057\n",
      "The city being processed is: sarangani | 1687186\n",
      "The city being processed is: beloha | 1067565\n",
      "The city being processed is: leshukonskoye | 535839\n",
      "The city being processed is: marapanim | 3395440\n",
      "The city being processed is: bambous virieux | 1106677\n",
      "The city being processed is: korla | 1529376\n",
      "The city being processed is: miri | 1738050\n",
      "The city being processed is: calvinia | 3369174\n",
      "The city being processed is: luang prabang | 1655559\n",
      "The city being processed is: san quintin | 3984997\n",
      "The city being processed is: kijang | 1842966\n",
      "The city being processed is: aklavik | 5882953\n",
      "The city being processed is: chulym | 1507679\n",
      "The city being processed is: mount isa | 2065594\n",
      "The city being processed is: bayir | 304183\n",
      "The city being processed is: antofagasta | 3899539\n",
      "The city being processed is: awjilah | 88533\n",
      "The city being processed is: newport | 2641598\n",
      "The city being processed is: manono | 209598\n",
      "The city being processed is: douentza | 2458334\n",
      "The city being processed is: plettenberg bay | 964712\n",
      "The city being processed is: vostok | 2013279\n",
      "The city being processed is: greifswald | 2917788\n",
      "The city being processed is: esfahan | 418863\n",
      "The city being processed is: rorvik | 3141310\n",
      "The city being processed is: hofn | 2630299\n",
      "The city being processed is: terra santa | 3386467\n",
      "The city being processed is: severnyy | 496358\n",
      "The city being processed is: lithakia | 258241\n",
      "The city being processed is: phuket | 1151253\n",
      "The city being processed is: ugoofaaru | 1337619\n",
      "The city being processed is: iquitos | 3696183\n",
      "The city being processed is: orlik | 1496073\n",
      "The city being processed is: anloga | 2304548\n",
      "The city being processed is: saint-philippe | 935215\n",
      "The city being processed is: biltine | 244878\n",
      "The city being processed is: bodh gaya | 1275389\n",
      "The city being processed is: kingston | 3489854\n",
      "The city being processed is: santa fe | 3836277\n",
      "The city being processed is: uravakonda | 1253698\n",
      "The city being processed is: kachug | 2023333\n",
      "The city being processed is: paita | 3694112\n",
      "The city being processed is: hambantota | 1244926\n",
      "The city being processed is: portland | 5746545\n",
      "The city being processed is: ahuimanu | 5856516\n",
      "The city being processed is: tura | 1254046\n",
      "The city being processed is: namtsy | 2019488\n",
      "The city being processed is: tettnang | 2823368\n",
      "The city being processed is: egvekinot | 4031742\n",
      "The city being processed is: iroquois falls | 5984000\n",
      "The city being processed is: pemangkat | 1631637\n",
      "The city being processed is: teacapan | 3982287\n",
      "The city being processed is: whitehorse | 6180550\n",
      "The city being processed is: les cayes | 3728097\n",
      "The city being processed is: palana | 2122262\n",
      "The city being processed is: zaysan | 1517060\n",
      "The city being processed is: nemuro | 2128975\n",
      "The city being processed is: sobolevo | 525426\n",
      "The city being processed is: mayo | 4362001\n",
      "The city being processed is: hailar | 2037078\n",
      "The city being processed is: borgarnes | 3418076\n",
      "The city being processed is: monte azul | 3456864\n",
      "The city being processed is: avera | 4231997\n",
      "The city being processed is: makakilo city | 5850554\n",
      "The city being processed is: wagga wagga | 2145110\n",
      "The city being processed is: bealanana | 1068670\n",
      "The city being processed is: horta | 3372988\n",
      "The city being processed is: dubbo | 2168305\n",
      "The city being processed is: bunbury | 2075432\n",
      "The city being processed is: iqaluit | 5983720\n",
      "The city being processed is: xochitepec | 3514437\n",
      "The city being processed is: samarai | 2132606\n",
      "The city being processed is: vasteras | 2664454\n",
      "The city being processed is: karratha | 6620339\n",
      "The city being processed is: trincomalee | 1226260\n",
      "The city being processed is: ocos | 3592086\n",
      "The city being processed is: sao borja | 3449340\n",
      "The city being processed is: shimoda | 1852357\n",
      "The city being processed is: pitea | 603570\n",
      "The city being processed is: scarborough | 2638419\n",
      "The city being processed is: kisanga | 157014\n",
      "The city being processed is: blairmore | 5903535\n",
      "The city being processed is: kontagora | 2334008\n",
      "The city being processed is: rocha | 3440777\n",
      "The city being processed is: dwarka | 1272140\n"
     ]
    },
    {
     "name": "stdout",
     "output_type": "stream",
     "text": [
      "The city being processed is: codo | 3402000\n",
      "The city being processed is: natal | 3394023\n",
      "The city being processed is: bajram curri | 781171\n",
      "The city being processed is: nyurba | 2018735\n",
      "The city being processed is: nadvoitsy | 523662\n",
      "The city being processed is: shelburne | 6145890\n",
      "The city being processed is: bafra | 751335\n",
      "The city being processed is: kasungu | 928534\n",
      "The city being processed is: kieta | 2094027\n",
      "The city being processed is: grenaa | 2621230\n",
      "The city being processed is: springfield | 4409896\n",
      "The city being processed is: izazi | 158825\n",
      "The city being processed is: alofi | 4036284\n",
      "The city being processed is: lima | 3936456\n",
      "The city being processed is: alice springs | 2077895\n",
      "The city being processed is: yaan | 2338660\n",
      "The city being processed is: sao filipe | 3374210\n",
      "The city being processed is: mackenzie | 6063191\n",
      "The city being processed is: nieuw amsterdam | 3383434\n",
      "The city being processed is: xiaoweizhai | 1789945\n",
      "The city being processed is: saint-denis | 2980915\n",
      "The city being processed is: alta gracia | 3866163\n",
      "The city being processed is: henties bay | 3356832\n",
      "The city being processed is: dixon | 5343303\n",
      "The city being processed is: clyde river | 5924351\n",
      "The city being processed is: lillooet | 6945979\n",
      "The city being processed is: denpasar | 1645528\n",
      "The city being processed is: warmbad | 3352263\n",
      "The city being processed is: simao | 1794209\n",
      "The city being processed is: hornepayne | 5977046\n",
      "The city being processed is: nabire | 1634614\n",
      "The city being processed is: mount gambier | 2156643\n",
      "The city being processed is: beni mazar | 359212\n",
      "The city being processed is: naze | 1855540\n",
      "The city being processed is: sweetwater | 4174600\n",
      "The city being processed is: mwanza | 152224\n",
      "The city being processed is: powassan | 6112530\n",
      "The city being processed is: manuk mangkaw | 1701394\n",
      "The city being processed is: sharjah | 292672\n",
      "The city being processed is: shenkursk | 494884\n",
      "The city being processed is: changping | 2038154\n",
      "The city being processed is: salalah | 286621\n",
      "The city being processed is: kununurra | 2068110\n",
      "The city being processed is: canillo | 3041203\n",
      "The city being processed is: kindu | 212902\n",
      "The city being processed is: carroll | 4350461\n",
      "The city being processed is: mazatlan | 3996322\n",
      "The city being processed is: puerto penasco | 3991347\n",
      "The city being processed is: hirado | 1862555\n",
      "The city being processed is: hargeysa | 57289\n",
      "The city being processed is: sitka | 5557293\n",
      "The city being processed is: jiangyou | 1885823\n",
      "The city being processed is: gorom-gorom | 2360372\n",
      "The city being processed is: klaksvik | 2618795\n",
      "The city being processed is: jambi | 1642858\n",
      "The city being processed is: harper | 2276492\n",
      "The city being processed is: san carlos de bariloche | 7647007\n",
      "The city being processed is: broken hill | 2173911\n",
      "The city being processed is: micheweni | 153955\n",
      "The city being processed is: marsabit | 187585\n",
      "The city being processed is: fortuna | 5563839\n",
      "The city being processed is: elesbao veloso | 3400920\n",
      "The city being processed is: kovur | 1265888\n",
      "The city being processed is: yanam | 1252795\n",
      "The city being processed is: havelock | 4470244\n",
      "The city being processed is: altamira | 3407882\n",
      "The city being processed is: esmeraldas | 3464008\n",
      "The city being processed is: alekseyevsk | 2022083\n",
      "The city being processed is: presidencia roque saenz pena | 3840300\n",
      "The city being processed is: hualmay | 3939761\n",
      "The city being processed is: srednekolymsk | 2121025\n",
      "The city being processed is: tonneins | 2972468\n",
      "The city being processed is: labuhan | 8079926\n",
      "The city being processed is: andros town | 3572906\n",
      "The city being processed is: san rafael | 3836669\n",
      "The city being processed is: petropavlovsk-kamchatskiy | 2122104\n",
      "The city being processed is: port moresby | 2088122\n",
      "The city being processed is: ballina | 2177069\n",
      "The city being processed is: rabat | 2538474\n",
      "The city being processed is: jalu | 86049\n",
      "The city being processed is: port hardy | 6111862\n",
      "The city being processed is: kilindoni | 157429\n",
      "The city being processed is: palu | 1633034\n",
      "The city being processed is: antalaha | 1071296\n",
      "The city being processed is: bom jesus | 3405304\n",
      "The city being processed is: saint-nazaire | 2977921\n",
      "The city being processed is: churapcha | 2025241\n",
      "The city being processed is: akyab | 1295765\n",
      "The city being processed is: ust-kuyga | 2013921\n",
      "The city being processed is: ocampo | 3994535\n",
      "The city being processed is: baneh | 141584\n",
      "The city being processed is: ilulissat | 3423146\n",
      "The city being processed is: cockburn town | 3576994\n",
      "The city being processed is: sarakhs | 1159716\n",
      "The city being processed is: harindanga | 1349090\n",
      "The city being processed is: hasaki | 2112802\n",
      "The city being processed is: severnoye | 1492607\n",
      "The city being processed is: dengzhou | 1812988\n",
      "The city being processed is: dehloran | 136702\n",
      "The city being processed is: saint-louis | 2246451\n",
      "The city being processed is: la ronge | 6050066\n",
      "The city being processed is: chutove | 710342\n",
      "The city being processed is: port augusta | 2063056\n",
      "The city being processed is: saldanha | 3361934\n",
      "The city being processed is: margate | 2643044\n",
      "The city being processed is: parabel | 1495586\n",
      "The city being processed is: rincon | 4218882\n",
      "The city being processed is: comodoro rivadavia | 3860443\n",
      "The city being processed is: harnosand | 2707684\n",
      "The city being processed is: bairiki | 7601762\n",
      "The city being processed is: vardo | 777019\n",
      "The city being processed is: taoudenni | 2450173\n",
      "The city being processed is: vilyuysk | 2013392\n",
      "The city being processed is: olafsvik | 3414079\n",
      "The city being processed is: lorengau | 2092164\n",
      "The city being processed is: camacha | 2270385\n",
      "The city being processed is: bitung | 1648636\n",
      "The city being processed is: inhambane | 1045114\n",
      "The city being processed is: halifax | 6324729\n",
      "The city being processed is: maumere | 1635815\n",
      "The city being processed is: malakal | 370737\n",
      "The city being processed is: qinhuangdao | 1797595\n",
      "The city being processed is: taltal | 3870243\n",
      "The city being processed is: jablah | 169304\n",
      "The city being processed is: sinnamary | 3380290\n",
      "The city being processed is: grootfontein | 3357114\n",
      "The city being processed is: marbella | 2514169\n",
      "The city being processed is: kalemie | 214974\n",
      "The city being processed is: hervey bay | 2146219\n",
      "The city being processed is: schwerin | 2834282\n",
      "The city being processed is: sungairaya | 1625908\n",
      "The city being processed is: ampanihy | 1078553\n",
      "The city being processed is: urgut | 1215839\n",
      "The city being processed is: paamiut | 3421193\n",
      "The city being processed is: cam ranh | 1586350\n",
      "The city being processed is: fremont | 5350734\n",
      "The city being processed is: mattru | 2409215\n",
      "The city being processed is: chirongui | 1090415\n",
      "The city being processed is: carutapera | 3402648\n",
      "The city being processed is: peskovka | 510473\n",
      "The city being processed is: mushie | 2312249\n",
      "The city being processed is: nelson bay | 2155562\n",
      "The city being processed is: hovd | 1516048\n",
      "The city being processed is: minab | 123941\n",
      "The city being processed is: clifton | 5096699\n",
      "The city being processed is: nanortalik | 3421765\n",
      "The city being processed is: katsuura | 2112309\n",
      "The city being processed is: palekh | 513095\n",
      "The city being processed is: port blair | 1259385\n",
      "The city being processed is: kita | 2455216\n",
      "The city being processed is: abalak | 1512223\n",
      "The city being processed is: colac | 2171069\n",
      "The city being processed is: tabas | 113659\n",
      "The city being processed is: puerto escondido | 3520994\n",
      "The city being processed is: ilinskiy | 557140\n",
      "The city being processed is: opuwo | 3354077\n",
      "The city being processed is: saint-pierre | 935214\n",
      "The city being processed is: izumo | 1861084\n",
      "The city being processed is: ngunguru | 2186111\n",
      "The city being processed is: komsomolskiy | 1513491\n",
      "The city being processed is: asahikawa | 2130629\n",
      "The city being processed is: araouane | 2460954\n",
      "The city being processed is: swellendam | 950709\n",
      "The city being processed is: two rivers | 5276609\n",
      "The city being processed is: asau | 686090\n",
      "The city being processed is: belawan | 1215412\n",
      "The city being processed is: ambilobe | 1082243\n",
      "The city being processed is: powell river | 6112608\n",
      "The city being processed is: sao joao da barra | 3448903\n",
      "The city being processed is: poum | 2138555\n",
      "The city being processed is: rantauprapat | 1214073\n",
      "The city being processed is: abu kamal | 174448\n",
      "The city being processed is: simdega | 1256246\n"
     ]
    },
    {
     "name": "stdout",
     "output_type": "stream",
     "text": [
      "The city being processed is: kushiro | 2129376\n",
      "The city being processed is: barguzin | 2027109\n",
      "The city being processed is: richards bay | 962367\n",
      "The city being processed is: touros | 3386213\n",
      "The city being processed is: husavik | 2629833\n",
      "The city being processed is: berdigestyakh | 2026861\n",
      "The city being processed is: sapa | 1687343\n",
      "The city being processed is: qaqortoq | 3420846\n",
      "The city being processed is: oriximina | 3393471\n",
      "The city being processed is: vestmanna | 2610343\n",
      "The city being processed is: tema | 2294700\n",
      "The city being processed is: coihaique | 3894426\n",
      "The city being processed is: alto parana | 3472440\n",
      "The city being processed is: itacarambi | 3460942\n",
      "The city being processed is: dongsheng | 1812256\n",
      "The city being processed is: chapais | 5919850\n",
      "The city being processed is: liwan | 1691594\n",
      "The city being processed is: killybegs | 2963295\n",
      "The city being processed is: emba | 609924\n",
      "The city being processed is: awbari | 2219235\n",
      "The city being processed is: verkhnyaya khava | 474669\n",
      "The city being processed is: constitucion | 3893726\n",
      "The city being processed is: navoi | 1513131\n",
      "The city being processed is: baoshan | 2038438\n",
      "The city being processed is: trairi | 3386177\n",
      "The city being processed is: brae | 2654970\n",
      "The city being processed is: orange cove | 5379533\n",
      "The city being processed is: grand gaube | 934479\n",
      "The city being processed is: doha | 290030\n",
      "The city being processed is: maniitsoq | 3421982\n",
      "The city being processed is: juybar | 129933\n",
      "The city being processed is: anadyr | 2127202\n",
      "The city being processed is: bonfim | 3405215\n",
      "The city being processed is: trofors | 3133983\n",
      "The city being processed is: yulara | 6355222\n",
      "The city being processed is: komagane | 1861641\n",
      "The city being processed is: iida | 1861864\n",
      "The city being processed is: quatre cocos | 1106643\n",
      "The city being processed is: lata | 2738381\n",
      "The city being processed is: kailua | 5847486\n"
     ]
    }
   ],
   "source": [
    "url = \"http://api.openweathermap.org/data/2.5/weather?\"\n",
    "units = \"metric\"\n",
    "query_url = f\"{url}appid={weather_api_key}&units={units}&q=\"\n",
    "\n",
    "cityweather = []\n",
    "country = []\n",
    "date = []\n",
    "lat = []\n",
    "lng = []\n",
    "temp = []\n",
    "windspeed = []\n",
    "cloudiness = []\n",
    "humidity = [] \n",
    "id_city = []\n",
    "\n",
    "# Loop through the list of cities and perform a request for data on each\n",
    "for city in cities:\n",
    "    response = requests.get(query_url + city).json()\n",
    "    try:\n",
    "        lat.append(response['coord']['lat'])\n",
    "        lng.append(response['coord']['lon'])\n",
    "        temp.append(response['main']['temp_max'])\n",
    "        windspeed.append(response['wind']['speed'])\n",
    "        humidity.append(response['main']['humidity'])\n",
    "        cloudiness.append(response['clouds']['all'])\n",
    "        id_city.append(response['id'])\n",
    "        country.append(response['sys']['country'])\n",
    "        date.append(response['dt'])\n",
    "        cityweather.append(city)\n",
    "        print(f\"The city being processed is: {city} | {response['id']}\")\n",
    "    except:\n",
    "        pass\n",
    "\n"
   ]
  },
  {
   "cell_type": "code",
   "execution_count": 10,
   "metadata": {},
   "outputs": [
    {
     "data": {
      "text/plain": [
       "1581182719"
      ]
     },
     "execution_count": 10,
     "metadata": {},
     "output_type": "execute_result"
    }
   ],
   "source": [
    "response = requests.get(query_url + 'London').json()\n",
    "response['dt']"
   ]
  },
  {
   "cell_type": "markdown",
   "metadata": {},
   "source": [
    "### Convert Raw Data to DataFrame\n",
    "* Export the city data into a .csv.\n",
    "* Display the DataFrame"
   ]
  },
  {
   "cell_type": "code",
   "execution_count": 39,
   "metadata": {},
   "outputs": [
    {
     "data": {
      "text/plain": [
       "City           object\n",
       "Country        object\n",
       "Date            int64\n",
       "Lat           float64\n",
       "Lng           float64\n",
       "Max Temp      float64\n",
       "Wind Speed    float64\n",
       "Cloudiness      int64\n",
       "Humidity        int64\n",
       "dtype: object"
      ]
     },
     "execution_count": 39,
     "metadata": {},
     "output_type": "execute_result"
    }
   ],
   "source": [
    "\n",
    "weather_dict = {\n",
    "    \"City\": cityweather,\n",
    "    \"Country\": country,\n",
    "    \"Date\": date,\n",
    "    \"Lat\": lat,\n",
    "    \"Lng\": lng,\n",
    "    \"Max Temp\": temp,\n",
    "    \"Wind Speed\": windspeed,\n",
    "    \"Cloudiness\": cloudiness,\n",
    "    \"Humidity\": humidity \n",
    "}\n",
    "weather_data = pd.DataFrame(weather_dict)\n",
    "weather_data.dtypes"
   ]
  },
  {
   "cell_type": "code",
   "execution_count": 40,
   "metadata": {},
   "outputs": [
    {
     "data": {
      "text/html": [
       "<div>\n",
       "<style scoped>\n",
       "    .dataframe tbody tr th:only-of-type {\n",
       "        vertical-align: middle;\n",
       "    }\n",
       "\n",
       "    .dataframe tbody tr th {\n",
       "        vertical-align: top;\n",
       "    }\n",
       "\n",
       "    .dataframe thead th {\n",
       "        text-align: right;\n",
       "    }\n",
       "</style>\n",
       "<table border=\"1\" class=\"dataframe\">\n",
       "  <thead>\n",
       "    <tr style=\"text-align: right;\">\n",
       "      <th></th>\n",
       "      <th>City</th>\n",
       "      <th>Country</th>\n",
       "      <th>Date</th>\n",
       "      <th>Lat</th>\n",
       "      <th>Lng</th>\n",
       "      <th>Max Temp</th>\n",
       "      <th>Wind Speed</th>\n",
       "      <th>Cloudiness</th>\n",
       "      <th>Humidity</th>\n",
       "    </tr>\n",
       "  </thead>\n",
       "  <tbody>\n",
       "    <tr>\n",
       "      <td>0</td>\n",
       "      <td>ushuaia</td>\n",
       "      <td>AR</td>\n",
       "      <td>2020-02-08 17:27:05</td>\n",
       "      <td>-54.80</td>\n",
       "      <td>-68.30</td>\n",
       "      <td>19.00</td>\n",
       "      <td>2.01</td>\n",
       "      <td>0</td>\n",
       "      <td>45</td>\n",
       "    </tr>\n",
       "    <tr>\n",
       "      <td>1</td>\n",
       "      <td>forio</td>\n",
       "      <td>IT</td>\n",
       "      <td>2020-02-08 17:28:42</td>\n",
       "      <td>40.73</td>\n",
       "      <td>13.86</td>\n",
       "      <td>11.11</td>\n",
       "      <td>2.10</td>\n",
       "      <td>0</td>\n",
       "      <td>66</td>\n",
       "    </tr>\n",
       "    <tr>\n",
       "      <td>2</td>\n",
       "      <td>mianyang</td>\n",
       "      <td>CN</td>\n",
       "      <td>2020-02-08 17:28:42</td>\n",
       "      <td>31.46</td>\n",
       "      <td>104.75</td>\n",
       "      <td>7.65</td>\n",
       "      <td>0.71</td>\n",
       "      <td>75</td>\n",
       "      <td>66</td>\n",
       "    </tr>\n",
       "    <tr>\n",
       "      <td>3</td>\n",
       "      <td>punta arenas</td>\n",
       "      <td>CL</td>\n",
       "      <td>2020-02-08 17:26:16</td>\n",
       "      <td>-53.15</td>\n",
       "      <td>-70.92</td>\n",
       "      <td>22.00</td>\n",
       "      <td>4.60</td>\n",
       "      <td>0</td>\n",
       "      <td>67</td>\n",
       "    </tr>\n",
       "    <tr>\n",
       "      <td>4</td>\n",
       "      <td>hilo</td>\n",
       "      <td>US</td>\n",
       "      <td>2020-02-08 17:24:51</td>\n",
       "      <td>19.73</td>\n",
       "      <td>-155.09</td>\n",
       "      <td>16.11</td>\n",
       "      <td>2.60</td>\n",
       "      <td>1</td>\n",
       "      <td>67</td>\n",
       "    </tr>\n",
       "  </tbody>\n",
       "</table>\n",
       "</div>"
      ],
      "text/plain": [
       "           City Country                Date    Lat     Lng  Max Temp  \\\n",
       "0       ushuaia      AR 2020-02-08 17:27:05 -54.80  -68.30     19.00   \n",
       "1         forio      IT 2020-02-08 17:28:42  40.73   13.86     11.11   \n",
       "2      mianyang      CN 2020-02-08 17:28:42  31.46  104.75      7.65   \n",
       "3  punta arenas      CL 2020-02-08 17:26:16 -53.15  -70.92     22.00   \n",
       "4          hilo      US 2020-02-08 17:24:51  19.73 -155.09     16.11   \n",
       "\n",
       "   Wind Speed  Cloudiness  Humidity  \n",
       "0        2.01           0        45  \n",
       "1        2.10           0        66  \n",
       "2        0.71          75        66  \n",
       "3        4.60           0        67  \n",
       "4        2.60           1        67  "
      ]
     },
     "execution_count": 40,
     "metadata": {},
     "output_type": "execute_result"
    }
   ],
   "source": [
    "weather_data['Date']=pd.to_datetime(weather_data['Date'], unit = 's')\n",
    "weather_data.head()"
   ]
  },
  {
   "cell_type": "markdown",
   "metadata": {},
   "source": [
    "### Plotting the Data\n",
    "* Use proper labeling of the plots using plot titles (including date of analysis) and axes labels.\n",
    "* Save the plotted figures as .pngs."
   ]
  },
  {
   "cell_type": "markdown",
   "metadata": {},
   "source": [
    "#### Latitude vs. Temperature Plot"
   ]
  },
  {
   "cell_type": "code",
   "execution_count": 13,
   "metadata": {
    "scrolled": true
   },
   "outputs": [
    {
     "data": {
      "image/png": "[encoded data removed]",
      "text/plain": [
       "<Figure size 432x288 with 1 Axes>"
      ]
     },
     "metadata": {
      "needs_background": "light"
     },
     "output_type": "display_data"
    }
   ],
   "source": [
    "plt.scatter(weather_data[\"Lat\"], weather_data[\"Max Temp\"], marker=\"o\")\n",
    "\n",
    "# Incorporate the other graph properties\n",
    "plt.title(\"Temperature in World Cities\")\n",
    "plt.ylabel(\"Temperature (Celsius)\")\n",
    "plt.xlabel(\"Latitude\")\n",
    "plt.grid(True)\n",
    "\n",
    "plt.savefig(\"../Images/Temperature in World Cities.png\")"
   ]
  },
  {
   "cell_type": "markdown",
   "metadata": {},
   "source": [
    "#### Latitude vs. Humidity Plot"
   ]
  },
  {
   "cell_type": "code",
   "execution_count": 14,
   "metadata": {},
   "outputs": [
    {
     "data": {
      "image/png": "[encoded data removed]",
      "text/plain": [
       "<Figure size 432x288 with 1 Axes>"
      ]
     },
     "metadata": {
      "needs_background": "light"
     },
     "output_type": "display_data"
    }
   ],
   "source": [
    "plt.scatter(weather_data[\"Lat\"], weather_data[\"Humidity\"], marker=\"o\")\n",
    "\n",
    "# Incorporate the other graph properties\n",
    "plt.title(\"Humidity in World Cities\")\n",
    "plt.ylabel(\"Humidity\")\n",
    "plt.xlabel(\"Latitude\")\n",
    "plt.grid(True)\n",
    "\n",
    "plt.savefig(\"../Images/Humidity in World Cities.png\")"
   ]
  },
  {
   "cell_type": "markdown",
   "metadata": {},
   "source": [
    "#### Latitude vs. Cloudiness Plot"
   ]
  },
  {
   "cell_type": "code",
   "execution_count": 15,
   "metadata": {},
   "outputs": [
    {
     "data": {
      "image/png": "[encoded data removed]",
      "text/plain": [
       "<Figure size 432x288 with 1 Axes>"
      ]
     },
     "metadata": {
      "needs_background": "light"
     },
     "output_type": "display_data"
    }
   ],
   "source": [
    "plt.scatter(weather_data[\"Lat\"], weather_data[\"Cloudiness\"], marker=\"o\")\n",
    "\n",
    "# Incorporate the other graph properties\n",
    "plt.title(\"Cloudiness in World Cities\")\n",
    "plt.ylabel(\"Cloudiness\")\n",
    "plt.xlabel(\"Latitude\")\n",
    "plt.grid(True)\n",
    "\n",
    "plt.savefig(\"../Images/Cloudiness in World Cities.png\")"
   ]
  },
  {
   "cell_type": "markdown",
   "metadata": {},
   "source": [
    "#### Latitude vs. Wind Speed Plot"
   ]
  },
  {
   "cell_type": "code",
   "execution_count": 16,
   "metadata": {},
   "outputs": [
    {
     "data": {
      "image/png": "[encoded data removed]",
      "text/plain": [
       "<Figure size 432x288 with 1 Axes>"
      ]
     },
     "metadata": {
      "needs_background": "light"
     },
     "output_type": "display_data"
    }
   ],
   "source": [
    "plt.scatter(weather_data[\"Lat\"], weather_data[\"Wind Speed\"], marker=\"o\")\n",
    "\n",
    "# Incorporate the other graph properties\n",
    "plt.title(\"Wind Speed in World Cities\")\n",
    "plt.ylabel(\"Wind Speed\")\n",
    "plt.xlabel(\"Latitude\")\n",
    "plt.grid(True)\n",
    "\n",
    "plt.savefig(\"../Images/Wind Speed in World Cities.png\")"
   ]
  },
  {
   "cell_type": "markdown",
   "metadata": {},
   "source": [
    "## Linear Regression"
   ]
  },
  {
   "cell_type": "code",
   "execution_count": 17,
   "metadata": {},
   "outputs": [],
   "source": [
    "# OPTIONAL: Create a function to create Linear Regression plots\n"
   ]
  },
  {
   "cell_type": "code",
   "execution_count": 18,
   "metadata": {},
   "outputs": [
    {
     "data": {
      "text/html": [
       "<div>\n",
       "<style scoped>\n",
       "    .dataframe tbody tr th:only-of-type {\n",
       "        vertical-align: middle;\n",
       "    }\n",
       "\n",
       "    .dataframe tbody tr th {\n",
       "        vertical-align: top;\n",
       "    }\n",
       "\n",
       "    .dataframe thead th {\n",
       "        text-align: right;\n",
       "    }\n",
       "</style>\n",
       "<table border=\"1\" class=\"dataframe\">\n",
       "  <thead>\n",
       "    <tr style=\"text-align: right;\">\n",
       "      <th></th>\n",
       "      <th>City</th>\n",
       "      <th>Country</th>\n",
       "      <th>Date</th>\n",
       "      <th>Lat</th>\n",
       "      <th>Lng</th>\n",
       "      <th>Max Temp</th>\n",
       "      <th>Wind Speed</th>\n",
       "      <th>Cloudiness</th>\n",
       "      <th>Humidity</th>\n",
       "    </tr>\n",
       "  </thead>\n",
       "  <tbody>\n",
       "    <tr>\n",
       "      <td>1</td>\n",
       "      <td>forio</td>\n",
       "      <td>IT</td>\n",
       "      <td>1970-01-01</td>\n",
       "      <td>40.73</td>\n",
       "      <td>13.86</td>\n",
       "      <td>11.11</td>\n",
       "      <td>2.10</td>\n",
       "      <td>0</td>\n",
       "      <td>66</td>\n",
       "    </tr>\n",
       "    <tr>\n",
       "      <td>2</td>\n",
       "      <td>mianyang</td>\n",
       "      <td>CN</td>\n",
       "      <td>1970-01-01</td>\n",
       "      <td>31.46</td>\n",
       "      <td>104.75</td>\n",
       "      <td>7.65</td>\n",
       "      <td>0.71</td>\n",
       "      <td>75</td>\n",
       "      <td>66</td>\n",
       "    </tr>\n",
       "    <tr>\n",
       "      <td>4</td>\n",
       "      <td>hilo</td>\n",
       "      <td>US</td>\n",
       "      <td>1970-01-01</td>\n",
       "      <td>19.73</td>\n",
       "      <td>-155.09</td>\n",
       "      <td>16.11</td>\n",
       "      <td>2.60</td>\n",
       "      <td>1</td>\n",
       "      <td>67</td>\n",
       "    </tr>\n",
       "    <tr>\n",
       "      <td>6</td>\n",
       "      <td>nikki</td>\n",
       "      <td>BJ</td>\n",
       "      <td>1970-01-01</td>\n",
       "      <td>9.94</td>\n",
       "      <td>3.21</td>\n",
       "      <td>29.85</td>\n",
       "      <td>1.93</td>\n",
       "      <td>3</td>\n",
       "      <td>12</td>\n",
       "    </tr>\n",
       "    <tr>\n",
       "      <td>7</td>\n",
       "      <td>barrow</td>\n",
       "      <td>US</td>\n",
       "      <td>1970-01-01</td>\n",
       "      <td>71.29</td>\n",
       "      <td>-156.79</td>\n",
       "      <td>-39.00</td>\n",
       "      <td>4.10</td>\n",
       "      <td>20</td>\n",
       "      <td>98</td>\n",
       "    </tr>\n",
       "  </tbody>\n",
       "</table>\n",
       "</div>"
      ],
      "text/plain": [
       "       City Country        Date    Lat     Lng  Max Temp  Wind Speed  \\\n",
       "1     forio      IT  1970-01-01  40.73   13.86     11.11        2.10   \n",
       "2  mianyang      CN  1970-01-01  31.46  104.75      7.65        0.71   \n",
       "4      hilo      US  1970-01-01  19.73 -155.09     16.11        2.60   \n",
       "6     nikki      BJ  1970-01-01   9.94    3.21     29.85        1.93   \n",
       "7    barrow      US  1970-01-01  71.29 -156.79    -39.00        4.10   \n",
       "\n",
       "   Cloudiness  Humidity  \n",
       "1           0        66  \n",
       "2          75        66  \n",
       "4           1        67  \n",
       "6           3        12  \n",
       "7          20        98  "
      ]
     },
     "execution_count": 18,
     "metadata": {},
     "output_type": "execute_result"
    }
   ],
   "source": [
    "# Create Northern and Southern Hemisphere DataFrames\n",
    "northern = weather_data.loc[(weather_data['Lat'] >= 0)]\n",
    "northern.head()\n"
   ]
  },
  {
   "cell_type": "code",
   "execution_count": 19,
   "metadata": {},
   "outputs": [
    {
     "data": {
      "text/html": [
       "<div>\n",
       "<style scoped>\n",
       "    .dataframe tbody tr th:only-of-type {\n",
       "        vertical-align: middle;\n",
       "    }\n",
       "\n",
       "    .dataframe tbody tr th {\n",
       "        vertical-align: top;\n",
       "    }\n",
       "\n",
       "    .dataframe thead th {\n",
       "        text-align: right;\n",
       "    }\n",
       "</style>\n",
       "<table border=\"1\" class=\"dataframe\">\n",
       "  <thead>\n",
       "    <tr style=\"text-align: right;\">\n",
       "      <th></th>\n",
       "      <th>City</th>\n",
       "      <th>Country</th>\n",
       "      <th>Date</th>\n",
       "      <th>Lat</th>\n",
       "      <th>Lng</th>\n",
       "      <th>Max Temp</th>\n",
       "      <th>Wind Speed</th>\n",
       "      <th>Cloudiness</th>\n",
       "      <th>Humidity</th>\n",
       "    </tr>\n",
       "  </thead>\n",
       "  <tbody>\n",
       "    <tr>\n",
       "      <td>0</td>\n",
       "      <td>ushuaia</td>\n",
       "      <td>AR</td>\n",
       "      <td>1970-01-01</td>\n",
       "      <td>-54.80</td>\n",
       "      <td>-68.30</td>\n",
       "      <td>19.00</td>\n",
       "      <td>2.01</td>\n",
       "      <td>0</td>\n",
       "      <td>45</td>\n",
       "    </tr>\n",
       "    <tr>\n",
       "      <td>3</td>\n",
       "      <td>punta arenas</td>\n",
       "      <td>CL</td>\n",
       "      <td>1970-01-01</td>\n",
       "      <td>-53.15</td>\n",
       "      <td>-70.92</td>\n",
       "      <td>22.00</td>\n",
       "      <td>4.60</td>\n",
       "      <td>0</td>\n",
       "      <td>67</td>\n",
       "    </tr>\n",
       "    <tr>\n",
       "      <td>5</td>\n",
       "      <td>itarema</td>\n",
       "      <td>BR</td>\n",
       "      <td>1970-01-01</td>\n",
       "      <td>-2.92</td>\n",
       "      <td>-39.92</td>\n",
       "      <td>29.50</td>\n",
       "      <td>5.04</td>\n",
       "      <td>71</td>\n",
       "      <td>69</td>\n",
       "    </tr>\n",
       "    <tr>\n",
       "      <td>8</td>\n",
       "      <td>kaeo</td>\n",
       "      <td>NZ</td>\n",
       "      <td>1970-01-01</td>\n",
       "      <td>-35.10</td>\n",
       "      <td>173.78</td>\n",
       "      <td>13.89</td>\n",
       "      <td>5.66</td>\n",
       "      <td>76</td>\n",
       "      <td>100</td>\n",
       "    </tr>\n",
       "    <tr>\n",
       "      <td>9</td>\n",
       "      <td>faanui</td>\n",
       "      <td>PF</td>\n",
       "      <td>1970-01-01</td>\n",
       "      <td>-16.48</td>\n",
       "      <td>-151.75</td>\n",
       "      <td>27.91</td>\n",
       "      <td>9.14</td>\n",
       "      <td>100</td>\n",
       "      <td>79</td>\n",
       "    </tr>\n",
       "  </tbody>\n",
       "</table>\n",
       "</div>"
      ],
      "text/plain": [
       "           City Country        Date    Lat     Lng  Max Temp  Wind Speed  \\\n",
       "0       ushuaia      AR  1970-01-01 -54.80  -68.30     19.00        2.01   \n",
       "3  punta arenas      CL  1970-01-01 -53.15  -70.92     22.00        4.60   \n",
       "5       itarema      BR  1970-01-01  -2.92  -39.92     29.50        5.04   \n",
       "8          kaeo      NZ  1970-01-01 -35.10  173.78     13.89        5.66   \n",
       "9        faanui      PF  1970-01-01 -16.48 -151.75     27.91        9.14   \n",
       "\n",
       "   Cloudiness  Humidity  \n",
       "0           0        45  \n",
       "3           0        67  \n",
       "5          71        69  \n",
       "8          76       100  \n",
       "9         100        79  "
      ]
     },
     "execution_count": 19,
     "metadata": {},
     "output_type": "execute_result"
    }
   ],
   "source": [
    "southern = weather_data.loc[(weather_data['Lat'] < 0)]\n",
    "southern.head()"
   ]
  },
  {
   "cell_type": "markdown",
   "metadata": {},
   "source": [
    "####  Northern Hemisphere - Max Temp vs. Latitude Linear Regression"
   ]
  },
  {
   "cell_type": "code",
   "execution_count": 20,
   "metadata": {},
   "outputs": [
    {
     "name": "stdout",
     "output_type": "stream",
     "text": [
      "The r-squared is: -0.8527100911648194\n"
     ]
    },
    {
     "data": {
      "image/png": "[encoded data removed]",
      "text/plain": [
       "<Figure size 432x288 with 1 Axes>"
      ]
     },
     "metadata": {
      "needs_background": "light"
     },
     "output_type": "display_data"
    }
   ],
   "source": [
    "x = northern['Lat']\n",
    "y = northern['Max Temp']\n",
    "(slope, intercept, rvalue, pvalue, stderr) = linregress(x, y)\n",
    "regress_values = x * slope + intercept\n",
    "line_eq = \"y = \" + str(round(slope,2)) + \"x + \" + str(round(intercept,2))\n",
    "plt.scatter(x,y)\n",
    "plt.plot(x,regress_values,\"r-\")\n",
    "plt.annotate(line_eq,(6,10),fontsize=15,color=\"red\")\n",
    "plt.xlabel('Latitude')\n",
    "plt.ylabel('Max Temp')\n",
    "print(f\"The r-squared is: {rvalue}\")\n",
    "\n",
    "plt.savefig(\"../Images/temp_lat_linreg_north.png\")\n",
    "plt.show()\n"
   ]
  },
  {
   "cell_type": "markdown",
   "metadata": {},
   "source": [
    "####  Southern Hemisphere - Max Temp vs. Latitude Linear Regression"
   ]
  },
  {
   "cell_type": "code",
   "execution_count": 21,
   "metadata": {},
   "outputs": [
    {
     "name": "stdout",
     "output_type": "stream",
     "text": [
      "The r-squared is: 0.4667093679505574\n"
     ]
    },
    {
     "data": {
      "image/png": "[encoded data removed]",
      "text/plain": [
       "<Figure size 432x288 with 1 Axes>"
      ]
     },
     "metadata": {
      "needs_background": "light"
     },
     "output_type": "display_data"
    }
   ],
   "source": [
    "x = southern['Lat']\n",
    "y = southern['Max Temp']\n",
    "(slope, intercept, rvalue, pvalue, stderr) = linregress(x, y)\n",
    "regress_values = x * slope + intercept\n",
    "line_eq = \"y = \" + str(round(slope,2)) + \"x + \" + str(round(intercept,2))\n",
    "plt.scatter(x,y)\n",
    "plt.plot(x,regress_values,\"r-\")\n",
    "plt.annotate(line_eq,(6,10),fontsize=15,color=\"red\")\n",
    "plt.xlabel('Latitude')\n",
    "plt.ylabel('Max Temp')\n",
    "print(f\"The r-squared is: {rvalue}\")\n",
    "\n",
    "plt.savefig(\"../Images/temp_lat_linreg_south.png\")\n",
    "plt.show()\n"
   ]
  },
  {
   "cell_type": "markdown",
   "metadata": {},
   "source": [
    "####  Northern Hemisphere - Humidity (%) vs. Latitude Linear Regression"
   ]
  },
  {
   "cell_type": "code",
   "execution_count": 22,
   "metadata": {},
   "outputs": [
    {
     "name": "stdout",
     "output_type": "stream",
     "text": [
      "The r-squared is: 0.40464232655522236\n"
     ]
    },
    {
     "data": {
      "image/png": "[encoded data removed]",
      "text/plain": [
       "<Figure size 432x288 with 1 Axes>"
      ]
     },
     "metadata": {
      "needs_background": "light"
     },
     "output_type": "display_data"
    }
   ],
   "source": [
    "x = northern['Lat']\n",
    "y = northern['Humidity']\n",
    "(slope, intercept, rvalue, pvalue, stderr) = linregress(x, y)\n",
    "regress_values = x * slope + intercept\n",
    "line_eq = \"y = \" + str(round(slope,2)) + \"x + \" + str(round(intercept,2))\n",
    "plt.scatter(x,y)\n",
    "plt.plot(x,regress_values,\"r-\")\n",
    "plt.annotate(line_eq,(6,10),fontsize=15,color=\"red\")\n",
    "plt.xlabel('Latitude')\n",
    "plt.ylabel('Humidity')\n",
    "print(f\"The r-squared is: {rvalue}\")\n",
    "\n",
    "plt.savefig(\"../Images/humidity_lat_linreg_north.png\")\n",
    "plt.show()\n"
   ]
  },
  {
   "cell_type": "markdown",
   "metadata": {},
   "source": [
    "####  Southern Hemisphere - Humidity (%) vs. Latitude Linear Regression"
   ]
  },
  {
   "cell_type": "code",
   "execution_count": 23,
   "metadata": {},
   "outputs": [
    {
     "name": "stdout",
     "output_type": "stream",
     "text": [
      "The r-squared is: 0.15065135816469297\n"
     ]
    },
    {
     "data": {
      "image/png": "[encoded data removed]",
      "text/plain": [
       "<Figure size 432x288 with 1 Axes>"
      ]
     },
     "metadata": {
      "needs_background": "light"
     },
     "output_type": "display_data"
    }
   ],
   "source": [
    "x = southern['Lat']\n",
    "y = southern['Humidity']\n",
    "(slope, intercept, rvalue, pvalue, stderr) = linregress(x, y)\n",
    "regress_values = x * slope + intercept\n",
    "line_eq = \"y = \" + str(round(slope,2)) + \"x + \" + str(round(intercept,2))\n",
    "plt.scatter(x,y)\n",
    "plt.plot(x,regress_values,\"r-\")\n",
    "plt.annotate(line_eq,(6,10),fontsize=15,color=\"red\")\n",
    "plt.xlabel('Latitude')\n",
    "plt.ylabel('Humidity')\n",
    "print(f\"The r-squared is: {rvalue}\")\n",
    "\n",
    "plt.savefig(\"../Images/humidity_lat_linreg_south.png\")\n",
    "plt.show()\n"
   ]
  },
  {
   "cell_type": "markdown",
   "metadata": {},
   "source": [
    "####  Northern Hemisphere - Cloudiness (%) vs. Latitude Linear Regression"
   ]
  },
  {
   "cell_type": "code",
   "execution_count": 24,
   "metadata": {},
   "outputs": [
    {
     "name": "stdout",
     "output_type": "stream",
     "text": [
      "The r-squared is: 0.21438691047060918\n"
     ]
    },
    {
     "data": {
      "image/png": "[encoded data removed]",
      "text/plain": [
       "<Figure size 432x288 with 1 Axes>"
      ]
     },
     "metadata": {
      "needs_background": "light"
     },
     "output_type": "display_data"
    }
   ],
   "source": [
    "x = northern['Lat']\n",
    "y = northern['Cloudiness']\n",
    "(slope, intercept, rvalue, pvalue, stderr) = linregress(x, y)\n",
    "regress_values = x * slope + intercept\n",
    "line_eq = \"y = \" + str(round(slope,2)) + \"x + \" + str(round(intercept,2))\n",
    "plt.scatter(x,y)\n",
    "plt.plot(x,regress_values,\"r-\")\n",
    "plt.annotate(line_eq,(6,10),fontsize=15,color=\"red\")\n",
    "plt.xlabel('Latitude')\n",
    "plt.ylabel('Cloudiness')\n",
    "print(f\"The r-squared is: {rvalue}\")\n",
    "\n",
    "plt.savefig(\"../Images/cloudiness_lat_linreg_north.png\")\n",
    "plt.show()\n"
   ]
  },
  {
   "cell_type": "markdown",
   "metadata": {},
   "source": [
    "####  Southern Hemisphere - Cloudiness (%) vs. Latitude Linear Regression"
   ]
  },
  {
   "cell_type": "code",
   "execution_count": 25,
   "metadata": {},
   "outputs": [
    {
     "name": "stdout",
     "output_type": "stream",
     "text": [
      "The r-squared is: 0.26257270929019016\n"
     ]
    },
    {
     "data": {
      "image/png": "[encoded data removed]",
      "text/plain": [
       "<Figure size 432x288 with 1 Axes>"
      ]
     },
     "metadata": {
      "needs_background": "light"
     },
     "output_type": "display_data"
    }
   ],
   "source": [
    "x = southern['Lat']\n",
    "y = southern['Cloudiness']\n",
    "(slope, intercept, rvalue, pvalue, stderr) = linregress(x, y)\n",
    "regress_values = x * slope + intercept\n",
    "line_eq = \"y = \" + str(round(slope,2)) + \"x + \" + str(round(intercept,2))\n",
    "plt.scatter(x,y)\n",
    "plt.plot(x,regress_values,\"r-\")\n",
    "plt.annotate(line_eq,(6,10),fontsize=15,color=\"red\")\n",
    "plt.xlabel('Latitude')\n",
    "plt.ylabel('Cloudiness')\n",
    "print(f\"The r-squared is: {rvalue}\")\n",
    "\n",
    "plt.savefig(\"../Images/cloudiness_lat_linreg_south.png\")\n",
    "plt.show()\n"
   ]
  },
  {
   "cell_type": "markdown",
   "metadata": {},
   "source": [
    "####  Northern Hemisphere - Wind Speed (mph) vs. Latitude Linear Regression"
   ]
  },
  {
   "cell_type": "code",
   "execution_count": 26,
   "metadata": {},
   "outputs": [
    {
     "name": "stdout",
     "output_type": "stream",
     "text": [
      "The r-squared is: 0.060399546983078915\n"
     ]
    },
    {
     "data": {
      "image/png": "[encoded data removed]",
      "text/plain": [
       "<Figure size 432x288 with 1 Axes>"
      ]
     },
     "metadata": {
      "needs_background": "light"
     },
     "output_type": "display_data"
    }
   ],
   "source": [
    "x = northern['Lat']\n",
    "y = northern['Wind Speed']\n",
    "(slope, intercept, rvalue, pvalue, stderr) = linregress(x, y)\n",
    "regress_values = x * slope + intercept\n",
    "line_eq = \"y = \" + str(round(slope,2)) + \"x + \" + str(round(intercept,2))\n",
    "plt.scatter(x,y)\n",
    "plt.plot(x,regress_values,\"r-\")\n",
    "plt.annotate(line_eq,(6,10),fontsize=15,color=\"red\")\n",
    "plt.xlabel('Latitude')\n",
    "plt.ylabel('Wind Speed')\n",
    "print(f\"The r-squared is: {rvalue}\")\n",
    "\n",
    "plt.savefig(\"../Images/windspeed_lat_linreg_north.png\")\n",
    "plt.show()\n"
   ]
  },
  {
   "cell_type": "markdown",
   "metadata": {},
   "source": [
    "####  Southern Hemisphere - Wind Speed (mph) vs. Latitude Linear Regression"
   ]
  },
  {
   "cell_type": "code",
   "execution_count": 27,
   "metadata": {},
   "outputs": [
    {
     "name": "stdout",
     "output_type": "stream",
     "text": [
      "The r-squared is: -0.14766375305600196\n"
     ]
    },
    {
     "data": {
      "image/png": "[encoded data removed]",
      "text/plain": [
       "<Figure size 432x288 with 1 Axes>"
      ]
     },
     "metadata": {
      "needs_background": "light"
     },
     "output_type": "display_data"
    }
   ],
   "source": [
    "x = southern['Lat']\n",
    "y = southern['Wind Speed']\n",
    "(slope, intercept, rvalue, pvalue, stderr) = linregress(x, y)\n",
    "regress_values = x * slope + intercept\n",
    "line_eq = \"y = \" + str(round(slope,2)) + \"x + \" + str(round(intercept,2))\n",
    "plt.scatter(x,y)\n",
    "plt.plot(x,regress_values,\"r-\")\n",
    "plt.annotate(line_eq,(6,10),fontsize=15,color=\"red\")\n",
    "plt.xlabel('Latitude')\n",
    "plt.ylabel('Wind Speed')\n",
    "print(f\"The r-squared is: {rvalue}\")\n",
    "\n",
    "plt.savefig(\"../Images/windspeed_lat_linreg_south.png\")\n",
    "plt.show()\n"
   ]
  },
  {
   "cell_type": "code",
   "execution_count": 41,
   "metadata": {},
   "outputs": [],
   "source": [
    "weather_data.to_csv('my_weather_data.csv')"
   ]
  },
  {
   "cell_type": "markdown",
   "metadata": {},
   "source": [
    "Observations:\n",
    "\n",
    "    1. The latitude and the temperature have a correlation between each-other. As much far away from equador\n",
    "        we go as much the temerature goes down in both direction. More simple, as we go in the both pole direction,\n",
    "        there will be colder.\n",
    "    2. There is no correlation between latitude and humidity\n",
    "    3. There is no correlation between latitude and wind speed"
   ]
  },
  {
   "cell_type": "code",
   "execution_count": null,
   "metadata": {},
   "outputs": [],
   "source": []
  }
 ],
 "metadata": {
  "anaconda-cloud": {},
  "kernel_info": {
   "name": "python3"
  },
  "kernelspec": {
   "display_name": "Python 3",
   "language": "python",
   "name": "python3"
  },
  "language_info": {
   "codemirror_mode": {
    "name": "ipython",
    "version": 3
   },
   "file_extension": ".py",
   "mimetype": "text/x-python",
   "name": "python",
   "nbconvert_exporter": "python",
   "pygments_lexer": "ipython3",
   "version": "3.7.4"
  },
  "latex_envs": {
   "LaTeX_envs_menu_present": true,
   "autoclose": false,
   "autocomplete": true,
   "bibliofile": "biblio.bib",
   "cite_by": "apalike",
   "current_citInitial": 1,
   "eqLabelWithNumbers": true,
   "eqNumInitial": 1,
   "hotkeys": {
    "equation": "Ctrl-E",
    "itemize": "Ctrl-I"
   },
   "labels_anchors": false,
   "latex_user_defs": false,
   "report_style_numbering": false,
   "user_envs_cfg": false
  },
  "nteract": {
   "version": "0.12.3"
  }
 },
 "nbformat": 4,
 "nbformat_minor": 4
}
