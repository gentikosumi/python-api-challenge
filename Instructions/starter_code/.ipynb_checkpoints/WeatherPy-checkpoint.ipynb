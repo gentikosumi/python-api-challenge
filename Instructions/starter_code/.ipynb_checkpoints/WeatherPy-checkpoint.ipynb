{
 "cells": [
  {
   "cell_type": "markdown",
   "metadata": {},
   "source": [
    "# WeatherPy\n",
    "----\n",
    "\n",
    "#### Note\n",
    "* Instructions have been included for each segment. You do not have to follow them exactly, but they are included to help you think through the steps."
   ]
  },
  {
   "cell_type": "code",
   "execution_count": 7,
   "metadata": {
    "scrolled": true
   },
   "outputs": [],
   "source": [
    "# Dependencies and Setup\n",
    "import matplotlib.pyplot as plt\n",
    "import pandas as pd\n",
    "import numpy as np\n",
    "import requests\n",
    "import time\n",
    "from scipy.stats import linregress\n",
    "\n",
    "# Import API key\n",
    "from api_keys import weather_api_key\n",
    "\n",
    "# Incorporated citipy to determine city based on latitude and longitude\n",
    "from citipy import citipy\n",
    "\n",
    "# Output File (CSV)\n",
    "output_data_file = \"output_data/cities.csv\"\n",
    "\n",
    "# Range of latitudes and longitudes\n",
    "lat_range = (-90, 90)\n",
    "lng_range = (-180, 180)"
   ]
  },
  {
   "cell_type": "markdown",
   "metadata": {},
   "source": [
    "## Generate Cities List"
   ]
  },
  {
   "cell_type": "code",
   "execution_count": 8,
   "metadata": {},
   "outputs": [
    {
     "data": {
      "text/plain": [
       "607"
      ]
     },
     "execution_count": 8,
     "metadata": {},
     "output_type": "execute_result"
    }
   ],
   "source": [
    "# List for holding lat_lngs and cities\n",
    "lat_lngs = []\n",
    "cities = []\n",
    "\n",
    "# Create a set of random lat and lng combinations\n",
    "lats = np.random.uniform(low=-90.000, high=90.000, size=1500)\n",
    "lngs = np.random.uniform(low=-180.000, high=180.000, size=1500)\n",
    "lat_lngs = zip(lats, lngs)\n",
    "\n",
    "# Identify nearest city for each lat, lng combination\n",
    "for lat_lng in lat_lngs:\n",
    "    city = citipy.nearest_city(lat_lng[0], lat_lng[1]).city_name\n",
    "    \n",
    "    # If the city is unique, then add it to a our cities list\n",
    "    if city not in cities:\n",
    "        cities.append(city)\n",
    "\n",
    "# Print the city count to confirm sufficient count\n",
    "len(cities)"
   ]
  },
  {
   "cell_type": "markdown",
   "metadata": {},
   "source": [
    "### Perform API Calls\n",
    "* Perform a weather check on each city using a series of successive API calls.\n",
    "* Include a print log of each city as it'sbeing processed (with the city number and city name).\n"
   ]
  },
  {
   "cell_type": "code",
   "execution_count": 15,
   "metadata": {},
   "outputs": [
    {
     "name": "stdout",
     "output_type": "stream",
     "text": [
      "The city being processed is: samfya | 899274\n",
      "The city being processed is: georgetown | 1735106\n",
      "The city being processed is: coahuayana | 4013679\n",
      "The city being processed is: albany | 5106841\n",
      "The city being processed is: east london | 1006984\n",
      "The city being processed is: evensk | 2125693\n",
      "The city being processed is: port macquarie | 2152659\n",
      "The city being processed is: ushuaia | 3833367\n",
      "The city being processed is: wajima | 1848976\n",
      "The city being processed is: pisco | 3932145\n",
      "The city being processed is: dhidhdhoo | 1337612\n",
      "The city being processed is: avarua | 4035715\n",
      "The city being processed is: kapaa | 5848280\n",
      "The city being processed is: rikitea | 4030556\n",
      "The city being processed is: bantou | 1796663\n",
      "The city being processed is: smithers | 6149996\n",
      "The city being processed is: lata | 2738381\n",
      "The city being processed is: barrow | 5880054\n",
      "The city being processed is: busselton | 2075265\n",
      "The city being processed is: mataura | 6201424\n",
      "The city being processed is: puerto ayora | 3652764\n",
      "The city being processed is: hobart | 2163355\n",
      "The city being processed is: bluff | 2206939\n",
      "The city being processed is: trelew | 3833883\n",
      "The city being processed is: kodiak | 5866583\n",
      "The city being processed is: narsaq | 3421719\n",
      "The city being processed is: clemson | 4574989\n",
      "The city being processed is: rocha | 3440777\n",
      "The city being processed is: port alfred | 964432\n",
      "The city being processed is: chuy | 3443061\n",
      "The city being processed is: havoysund | 779622\n",
      "The city being processed is: sur | 286245\n",
      "The city being processed is: arraial do cabo | 3471451\n",
      "The city being processed is: zarubino | 2012646\n",
      "The city being processed is: channel-port aux basques | 5919815\n",
      "The city being processed is: shelburne | 6145890\n",
      "The city being processed is: cape town | 3369157\n",
      "The city being processed is: saskylakh | 2017155\n",
      "The city being processed is: leningradskiy | 2123814\n",
      "The city being processed is: tank | 1163905\n",
      "The city being processed is: igdir | 311665\n",
      "The city being processed is: bredasdorp | 1015776\n",
      "The city being processed is: ponta do sol | 2264557\n",
      "The city being processed is: namibe | 3347019\n",
      "The city being processed is: cherskiy | 2126199\n",
      "The city being processed is: salalah | 286621\n",
      "The city being processed is: flin flon | 5954718\n",
      "The city being processed is: bow island | 5906757\n",
      "The city being processed is: saint-philippe | 935215\n",
      "The city being processed is: goderich | 5962442\n",
      "The city being processed is: burhar | 1275066\n",
      "The city being processed is: ancud | 3899695\n",
      "The city being processed is: morganton | 4480219\n",
      "The city being processed is: tiksi | 2015306\n",
      "The city being processed is: acapulco | 3533462\n",
      "The city being processed is: bambamarca | 3699456\n",
      "The city being processed is: delmas | 1011031\n",
      "The city being processed is: port elizabeth | 964420\n",
      "The city being processed is: cabo san lucas | 3985710\n",
      "The city being processed is: yarada | 1252783\n",
      "The city being processed is: butaritari | 2110227\n",
      "The city being processed is: charters towers | 2171722\n",
      "The city being processed is: catio | 2373526\n",
      "The city being processed is: vastseliina | 587450\n",
      "The city being processed is: lompoc | 5367788\n",
      "The city being processed is: vaini | 4032243\n",
      "The city being processed is: kahului | 5847411\n",
      "The city being processed is: fortuna | 5563839\n",
      "The city being processed is: bembereke | 2395182\n",
      "The city being processed is: muros | 3115824\n",
      "The city being processed is: robertsport | 2274275\n",
      "The city being processed is: bengkulu | 1649150\n",
      "The city being processed is: victoria | 1819729\n",
      "The city being processed is: ostrovnoy | 556268\n",
      "The city being processed is: bubaque | 2374583\n",
      "The city being processed is: port lincoln | 2063036\n",
      "The city being processed is: kenora | 5991056\n",
      "The city being processed is: mahebourg | 934322\n",
      "The city being processed is: kalmunai | 1242110\n",
      "The city being processed is: basco | 1726449\n",
      "The city being processed is: sao joao da barra | 3448903\n",
      "The city being processed is: san cristobal | 3628473\n",
      "The city being processed is: trairi | 3386177\n",
      "The city being processed is: new norfolk | 2155415\n",
      "The city being processed is: guerrero negro | 4021858\n",
      "The city being processed is: paraiso | 3622547\n",
      "The city being processed is: hermanus | 3366880\n",
      "The city being processed is: quatre cocos | 1106643\n",
      "The city being processed is: ntcheu | 924492\n",
      "The city being processed is: anton lizardo | 3532821\n",
      "The city being processed is: atuona | 4020109\n",
      "The city being processed is: yellowknife | 6185377\n",
      "The city being processed is: sambava | 1056899\n",
      "The city being processed is: pirapemas | 3391940\n",
      "The city being processed is: upernavik | 3418910\n",
      "The city being processed is: arman | 2127060\n",
      "The city being processed is: olinda | 3393536\n",
      "The city being processed is: tasiilaq | 3424607\n",
      "The city being processed is: hilo | 5855927\n",
      "The city being processed is: port hedland | 2063042\n",
      "The city being processed is: nisia floresta | 3393922\n",
      "The city being processed is: provideniya | 4031574\n",
      "The city being processed is: homer | 5864145\n",
      "The city being processed is: ribeira grande | 3372707\n",
      "The city being processed is: maragogi | 3395458\n",
      "The city being processed is: manacapuru | 3663529\n",
      "The city being processed is: almeirim | 3407903\n",
      "The city being processed is: hithadhoo | 1282256\n",
      "The city being processed is: taltal | 3870243\n",
      "The city being processed is: mandalgovi | 2030065\n",
      "The city being processed is: varhaug | 3132644\n",
      "The city being processed is: cidreira | 3466165\n",
      "The city being processed is: tonj | 365763\n",
      "The city being processed is: cockburn town | 3576994\n",
      "The city being processed is: bethel | 5282297\n",
      "The city being processed is: kedougou | 2250645\n",
      "The city being processed is: tchollire | 2221607\n",
      "The city being processed is: pevek | 2122090\n",
      "The city being processed is: punta arenas | 3874787\n",
      "The city being processed is: mehran | 124291\n",
      "The city being processed is: flinders | 6255012\n",
      "The city being processed is: haines junction | 5969025\n",
      "The city being processed is: domoni | 921906\n",
      "The city being processed is: qui nhon | 1568574\n",
      "The city being processed is: palma di montechiaro | 6540843\n",
      "The city being processed is: ucluelet | 6171633\n",
      "The city being processed is: ewa beach | 5855051\n",
      "The city being processed is: la orilla | 4001056\n",
      "The city being processed is: komsomolskiy | 1513491\n",
      "The city being processed is: dikson | 1507390\n",
      "The city being processed is: urumqi | 1529102\n",
      "The city being processed is: vila velha | 3445026\n",
      "The city being processed is: kruisfontein | 986717\n",
      "The city being processed is: cairns | 2172797\n",
      "The city being processed is: coxim | 3465228\n",
      "The city being processed is: terekli-mekteb | 483439\n",
      "The city being processed is: marzuq | 72181\n",
      "The city being processed is: jackson | 5733351\n",
      "The city being processed is: carnarvon | 2074865\n",
      "The city being processed is: saint george | 5546220\n",
      "The city being processed is: geraldton | 2070998\n",
      "The city being processed is: half moon bay | 5354943\n",
      "The city being processed is: kongoussi | 2359142\n",
      "The city being processed is: port-gentil | 2396518\n",
      "The city being processed is: yulara | 6355222\n",
      "The city being processed is: ilulissat | 3423146\n",
      "The city being processed is: bequimao | 3405778\n",
      "The city being processed is: aklavik | 5882953\n",
      "The city being processed is: thompson | 6165406\n",
      "The city being processed is: salmon arm | 6139416\n",
      "The city being processed is: torbay | 6167817\n",
      "The city being processed is: qaanaaq | 3831208\n",
      "The city being processed is: flagstaff | 5294810\n",
      "The city being processed is: nome | 5870133\n",
      "The city being processed is: lebu | 3883457\n",
      "The city being processed is: comodoro rivadavia | 3860443\n",
      "The city being processed is: riyadh | 108410\n",
      "The city being processed is: ferme-neuve | 5952330\n",
      "The city being processed is: baruun-urt | 2032614\n",
      "The city being processed is: dingle | 1714733\n",
      "The city being processed is: mar del plata | 3430863\n",
      "The city being processed is: kathmandu | 1283240\n",
      "The city being processed is: tulun | 2014927\n",
      "The city being processed is: laguna | 5364271\n",
      "The city being processed is: sisimiut | 3419842\n",
      "The city being processed is: nishihara | 1855342\n",
      "The city being processed is: jamestown | 5122534\n",
      "The city being processed is: victor harbor | 2059470\n",
      "The city being processed is: severo-kurilsk | 2121385\n",
      "The city being processed is: norman wells | 6089245\n",
      "The city being processed is: avera | 4231997\n"
     ]
    },
    {
     "name": "stdout",
     "output_type": "stream",
     "text": [
      "The city being processed is: almaznyy | 582447\n",
      "The city being processed is: dhali | 1273033\n",
      "The city being processed is: tuktoyaktuk | 6170031\n",
      "The city being processed is: boa vista | 3664980\n",
      "The city being processed is: puerto colombia | 3671497\n",
      "The city being processed is: port hardy | 6111862\n",
      "The city being processed is: devonport | 2168943\n",
      "The city being processed is: goure | 2444219\n",
      "The city being processed is: sao filipe | 3374210\n",
      "The city being processed is: papetoai | 4033910\n",
      "The city being processed is: am timan | 245338\n",
      "The city being processed is: kazachinskoye | 1504075\n",
      "The city being processed is: krasnoselkup | 1502073\n",
      "The city being processed is: nikolskoye | 546105\n",
      "The city being processed is: gulbarga | 1270752\n",
      "The city being processed is: padang | 1633419\n",
      "The city being processed is: pangody | 1495626\n",
      "The city being processed is: rawson | 3839307\n",
      "The city being processed is: axim | 2303611\n",
      "The city being processed is: bathsheba | 3374083\n",
      "The city being processed is: shimoda | 1852357\n",
      "The city being processed is: marsh harbour | 3571913\n",
      "The city being processed is: tupik | 2014836\n",
      "The city being processed is: araouane | 2460954\n",
      "The city being processed is: jonesboro | 4116834\n",
      "The city being processed is: inuvik | 5983607\n",
      "The city being processed is: pathalgaon | 1260141\n",
      "The city being processed is: khatanga | 2022572\n",
      "The city being processed is: acajutla | 3587498\n",
      "The city being processed is: honiara | 2108502\n",
      "The city being processed is: piombino | 6541646\n",
      "The city being processed is: sainthia | 1257751\n",
      "The city being processed is: bilma | 2446796\n",
      "The city being processed is: tulle | 2971481\n",
      "The city being processed is: kargasok | 1504382\n",
      "The city being processed is: beringovskiy | 2126710\n",
      "The city being processed is: naro moru | 184367\n",
      "The city being processed is: bambous virieux | 1106677\n",
      "The city being processed is: luderitz | 3355672\n",
      "The city being processed is: mayo | 4362001\n",
      "The city being processed is: san patricio | 3985168\n",
      "The city being processed is: dilla | 338998\n",
      "The city being processed is: tsumeb | 3352593\n",
      "The city being processed is: ca mau | 1586443\n",
      "The city being processed is: ullapool | 2635199\n",
      "The city being processed is: demirci | 317241\n",
      "The city being processed is: matara | 1235846\n",
      "The city being processed is: kavaratti | 1267390\n",
      "The city being processed is: hayden | 5595320\n",
      "The city being processed is: nanortalik | 3421765\n",
      "The city being processed is: hazorasp | 1513957\n",
      "The city being processed is: williston | 5692947\n",
      "The city being processed is: faanui | 4034551\n",
      "The city being processed is: sorland | 3137469\n",
      "The city being processed is: semey | 1519422\n",
      "The city being processed is: ust-uda | 2013865\n",
      "The city being processed is: kassala | 372753\n",
      "The city being processed is: dimitrovgrad | 566199\n",
      "The city being processed is: poso | 1630723\n",
      "The city being processed is: moron | 3430545\n",
      "The city being processed is: umba | 479071\n",
      "The city being processed is: bucerias | 4016734\n",
      "The city being processed is: miracema do tocantins | 3384937\n",
      "The city being processed is: paka | 1734313\n",
      "The city being processed is: mitsamiouli | 921786\n",
      "The city being processed is: luanda | 2240449\n",
      "The city being processed is: ashqelon | 295620\n",
      "The city being processed is: seabra | 3447928\n",
      "The city being processed is: hualmay | 3939761\n",
      "The city being processed is: ambilobe | 1082243\n",
      "The city being processed is: richards bay | 962367\n",
      "The city being processed is: jacareacanga | 3397763\n",
      "The city being processed is: bemidji | 5017822\n",
      "The city being processed is: ko samui | 1154689\n",
      "The city being processed is: broome | 5110365\n",
      "The city being processed is: merauke | 2082539\n",
      "The city being processed is: esna | 355449\n",
      "The city being processed is: huarmey | 3939168\n",
      "The city being processed is: talnakh | 1490256\n",
      "The city being processed is: beloha | 1067565\n",
      "The city being processed is: margate | 2643044\n",
      "The city being processed is: ixtapa | 4004293\n",
      "The city being processed is: natal | 3394023\n",
      "The city being processed is: carutapera | 3402648\n",
      "The city being processed is: codrington | 2171099\n",
      "The city being processed is: mount isa | 2065594\n",
      "The city being processed is: kysyl-syr | 2021017\n",
      "The city being processed is: lufilufi | 4035249\n",
      "The city being processed is: ilo | 3938415\n",
      "The city being processed is: los llanos de aridane | 2514651\n",
      "The city being processed is: harbour breton | 5970478\n",
      "The city being processed is: douglas | 5067114\n",
      "The city being processed is: horodnya | 708320\n",
      "The city being processed is: kushmurun | 1519924\n",
      "The city being processed is: ndele | 237379\n",
      "The city being processed is: sembe | 2255304\n",
      "The city being processed is: kaniama | 214389\n",
      "The city being processed is: el tambo | 3682965\n",
      "The city being processed is: sola | 2134814\n",
      "The city being processed is: acarau | 3408368\n",
      "The city being processed is: rodrigues alves | 3665210\n",
      "The city being processed is: coquimbo | 3893629\n",
      "The city being processed is: lavrentiya | 4031637\n",
      "The city being processed is: timmins | 6166739\n",
      "The city being processed is: buin | 3897774\n",
      "The city being processed is: kaitangata | 2208248\n",
      "The city being processed is: arinos | 3471522\n",
      "The city being processed is: klaksvik | 2618795\n",
      "The city being processed is: longyearbyen | 2729907\n",
      "The city being processed is: vega de alatorre | 3514843\n",
      "The city being processed is: general pico | 3855075\n",
      "The city being processed is: marsa matruh | 352733\n",
      "The city being processed is: grootfontein | 3357114\n",
      "The city being processed is: shitanjing | 1794971\n",
      "The city being processed is: gobabis | 3357247\n",
      "The city being processed is: palmerston | 6301965\n",
      "The city being processed is: luau | 876177\n",
      "The city being processed is: mahibadhoo | 1337605\n",
      "The city being processed is: sedan | 2975347\n",
      "The city being processed is: ginir | 336454\n",
      "The city being processed is: kabalo | 215668\n",
      "The city being processed is: erenhot | 2037485\n",
      "The city being processed is: lorengau | 2092164\n",
      "The city being processed is: zandvoort | 2744042\n",
      "The city being processed is: onda | 2513115\n",
      "The city being processed is: porto torres | 3170069\n",
      "The city being processed is: antalaha | 1071296\n",
      "The city being processed is: brainerd | 5019116\n",
      "The city being processed is: atbasar | 1526038\n",
      "The city being processed is: makokou | 2399371\n",
      "The city being processed is: vanimo | 2084442\n",
      "The city being processed is: watertown | 4954611\n",
      "The city being processed is: castro | 3466704\n",
      "The city being processed is: tocopilla | 3869716\n",
      "The city being processed is: katobu | 1640972\n",
      "The city being processed is: sobolevo | 525426\n",
      "The city being processed is: alta floresta | 6316343\n",
      "The city being processed is: porto novo | 2392087\n",
      "The city being processed is: hasaki | 2112802\n",
      "The city being processed is: leander | 4705708\n",
      "The city being processed is: belaya gora | 2126785\n",
      "The city being processed is: buncrana | 2654332\n",
      "The city being processed is: chokurdakh | 2126123\n",
      "The city being processed is: aksha | 2028028\n",
      "The city being processed is: gornopravdinsk | 1506268\n",
      "The city being processed is: pampas | 3933185\n",
      "The city being processed is: macapa | 3396016\n",
      "The city being processed is: seaside | 5394136\n",
      "The city being processed is: westport | 4845585\n",
      "The city being processed is: sechura | 3691954\n",
      "The city being processed is: abu kamal | 174448\n",
      "The city being processed is: takoradi | 2294915\n",
      "The city being processed is: morrope | 3694586\n",
      "The city being processed is: bundibugyo | 234178\n",
      "The city being processed is: dalbandin | 1180729\n",
      "The city being processed is: fare | 4034496\n",
      "The city being processed is: airai | 1651810\n",
      "The city being processed is: lagos | 2332453\n",
      "The city being processed is: kavieng | 2094342\n",
      "The city being processed is: kaduna | 2335727\n",
      "The city being processed is: morro bay | 5374920\n",
      "The city being processed is: tuatapere | 2180815\n",
      "The city being processed is: tazovskiy | 1489853\n",
      "The city being processed is: vysokogornyy | 2013216\n",
      "The city being processed is: kalabo | 915471\n",
      "The city being processed is: fukue | 1863997\n",
      "The city being processed is: salta | 3838233\n",
      "The city being processed is: kozhevnikovo | 1502257\n",
      "The city being processed is: katsuura | 2112309\n",
      "The city being processed is: bethanien | 3358416\n",
      "The city being processed is: egvekinot | 4031742\n"
     ]
    },
    {
     "name": "stdout",
     "output_type": "stream",
     "text": [
      "The city being processed is: vila franca do campo | 3372472\n",
      "The city being processed is: ocosingo | 3522484\n",
      "The city being processed is: hamilton | 4513583\n",
      "The city being processed is: madimba | 878141\n",
      "The city being processed is: seydi | 1218420\n",
      "The city being processed is: durusu | 747793\n",
      "The city being processed is: viedma | 3832899\n",
      "The city being processed is: abu samrah | 172515\n",
      "The city being processed is: san policarpo | 1688696\n",
      "The city being processed is: northam | 2641434\n",
      "The city being processed is: sovetskiy | 1491230\n",
      "The city being processed is: vanavara | 2013727\n",
      "The city being processed is: pitimbu | 3391889\n",
      "The city being processed is: deputatskiy | 2028164\n",
      "The city being processed is: creston | 4853078\n",
      "The city being processed is: rockhampton | 2151437\n",
      "The city being processed is: masterton | 2206890\n",
      "The city being processed is: svrljig | 785164\n",
      "The city being processed is: sueca | 2510764\n",
      "The city being processed is: sri aman | 1735799\n",
      "The city being processed is: biltine | 244878\n",
      "The city being processed is: kristiansund | 6453331\n",
      "The city being processed is: polson | 5671996\n",
      "The city being processed is: san quintin | 3984997\n",
      "The city being processed is: ugoofaaru | 1337619\n",
      "The city being processed is: souillac | 933995\n",
      "The city being processed is: singapore | 1880252\n",
      "The city being processed is: christchurch | 2192362\n",
      "The city being processed is: mahon | 2514301\n",
      "The city being processed is: pionerskiy | 509437\n",
      "The city being processed is: tiznit | 2527087\n",
      "The city being processed is: kodinsk | 1503037\n",
      "The city being processed is: sinnamary | 3380290\n",
      "The city being processed is: fairbanks | 5861897\n",
      "The city being processed is: ulaangom | 1515029\n",
      "The city being processed is: solnechnyy | 2016307\n",
      "The city being processed is: amudalavalasa | 1278698\n",
      "The city being processed is: thunder bay | 6166142\n",
      "The city being processed is: alofi | 4036284\n",
      "The city being processed is: uvalde | 4738723\n",
      "The city being processed is: dunedin | 2191562\n",
      "The city being processed is: hovd | 1516048\n",
      "The city being processed is: turukhansk | 1488903\n",
      "The city being processed is: ciechanow | 774208\n",
      "The city being processed is: ulaanbaatar | 2028462\n",
      "The city being processed is: mazyr | 625324\n",
      "The city being processed is: jalpan | 3526601\n",
      "The city being processed is: petropavlovsk-kamchatskiy | 2122104\n",
      "The city being processed is: popondetta | 2088163\n",
      "The city being processed is: hervey bay | 2146219\n",
      "The city being processed is: tessalit | 2449893\n",
      "The city being processed is: chapais | 5919850\n",
      "The city being processed is: warrington | 2634739\n",
      "The city being processed is: uruzgan | 1131461\n",
      "The city being processed is: stornoway | 2636790\n",
      "The city being processed is: fereydun kenar | 134602\n",
      "The city being processed is: kirovskiy | 2022064\n",
      "The city being processed is: mount gambier | 2156643\n",
      "The city being processed is: imbituba | 3461370\n",
      "The city being processed is: kloulklubed | 7671223\n",
      "The city being processed is: mattru | 2409215\n",
      "The city being processed is: vozhega | 471245\n",
      "The city being processed is: zverinogolovskoye | 1484943\n",
      "The city being processed is: yar-sale | 1486321\n",
      "The city being processed is: akyab | 1295765\n",
      "The city being processed is: shenjiamen | 1795632\n",
      "The city being processed is: namatanai | 2090021\n",
      "The city being processed is: esperance | 2071860\n",
      "The city being processed is: hun | 2216645\n",
      "The city being processed is: kangaatsiaq | 3422683\n",
      "The city being processed is: caravelas | 3466980\n",
      "The city being processed is: poddorye | 508441\n",
      "The city being processed is: kerema | 2094144\n",
      "The city being processed is: severnoye | 1492607\n",
      "The city being processed is: henties bay | 3356832\n",
      "The city being processed is: taoudenni | 2450173\n",
      "The city being processed is: wenling | 1791464\n",
      "The city being processed is: kasama | 912764\n",
      "The city being processed is: atamanovka | 2027373\n",
      "The city being processed is: kayerkan | 1497337\n",
      "The city being processed is: georgiyevka | 1524243\n",
      "The city being processed is: vardo | 777019\n",
      "The city being processed is: hamadan | 132144\n",
      "The city being processed is: vostok | 2013279\n",
      "The city being processed is: yeppoon | 2142316\n",
      "The city being processed is: risti | 588157\n",
      "The city being processed is: puerto cabezas | 3617154\n",
      "The city being processed is: sibu | 1735902\n",
      "The city being processed is: kununurra | 2068110\n",
      "The city being processed is: albacete | 2522257\n",
      "The city being processed is: oswego | 5130076\n",
      "The city being processed is: tura | 1254046\n",
      "The city being processed is: betare oya | 2234339\n",
      "The city being processed is: puerto princesa | 1692685\n",
      "The city being processed is: dornbirn | 2780741\n",
      "The city being processed is: california city | 5332748\n",
      "The city being processed is: karatuzskoye | 1504442\n",
      "The city being processed is: altay | 1529651\n",
      "The city being processed is: port blair | 1259385\n",
      "The city being processed is: karratha | 6620339\n",
      "The city being processed is: skoghall | 2677456\n",
      "The city being processed is: inhambane | 1045114\n",
      "The city being processed is: uhlove | 690820\n",
      "The city being processed is: bershet | 576745\n",
      "The city being processed is: nador | 2541479\n",
      "The city being processed is: middelburg | 976361\n",
      "The city being processed is: vestmanna | 2610343\n",
      "The city being processed is: niono | 2452655\n",
      "The city being processed is: northampton | 5203809\n",
      "The city being processed is: taikang | 2034600\n",
      "The city being processed is: chekhov | 569591\n",
      "The city being processed is: iquique | 3887127\n",
      "The city being processed is: kailua | 5847486\n",
      "The city being processed is: oranjemund | 3354071\n",
      "The city being processed is: walvis bay | 3359638\n",
      "The city being processed is: tilichiki | 2120591\n",
      "The city being processed is: baykit | 1510689\n",
      "The city being processed is: asfi | 2537881\n",
      "The city being processed is: terme | 738803\n",
      "The city being processed is: oschatz | 2856944\n",
      "The city being processed is: ulladulla | 2145554\n",
      "The city being processed is: ilek | 557340\n",
      "The city being processed is: faya | 110690\n",
      "The city being processed is: kudahuvadhoo | 1337607\n",
      "The city being processed is: nelson | 2186280\n",
      "The city being processed is: bairiki | 7601762\n",
      "The city being processed is: promyshlennaya | 1494091\n",
      "The city being processed is: mazatlan | 3996322\n",
      "The city being processed is: ust-maya | 2013918\n",
      "The city being processed is: nur | 763513\n",
      "The city being processed is: ingham | 4997130\n",
      "The city being processed is: sarakhs | 1159716\n",
      "The city being processed is: jijiga | 333795\n",
      "The city being processed is: weiser | 5611730\n",
      "The city being processed is: jimenez | 4003938\n",
      "The city being processed is: copiapo | 3893656\n",
      "The city being processed is: sao miguel do araguaia | 3448455\n",
      "The city being processed is: yining | 1786538\n",
      "The city being processed is: havelock | 4470244\n",
      "The city being processed is: saliste | 668153\n",
      "The city being processed is: north bend | 5742974\n",
      "The city being processed is: palmer | 4946620\n",
      "The city being processed is: lujiang | 1802068\n",
      "The city being processed is: clyde river | 5924351\n",
      "The city being processed is: alice springs | 2077895\n",
      "The city being processed is: asau | 686090\n",
      "The city being processed is: soyo | 2236967\n",
      "The city being processed is: tacuarembo | 3440034\n",
      "The city being processed is: mwanza | 152224\n",
      "The city being processed is: constitucion | 3893726\n",
      "The city being processed is: shuangyang | 2034791\n",
      "The city being processed is: isiro | 215771\n",
      "The city being processed is: juba | 373303\n",
      "The city being processed is: abu zabad | 380348\n",
      "The city being processed is: shache | 1280037\n",
      "The city being processed is: hami | 1529484\n",
      "The city being processed is: ola | 2122574\n",
      "The city being processed is: ribas do rio pardo | 3451399\n",
      "The city being processed is: chateaubelair | 3577933\n",
      "The city being processed is: pokhara | 1282898\n",
      "The city being processed is: ocampo | 3994535\n",
      "The city being processed is: bakuriani | 615583\n",
      "The city being processed is: rio grande | 3451138\n",
      "The city being processed is: senneterre | 6144195\n",
      "The city being processed is: devin | 732285\n",
      "The city being processed is: jati | 1176048\n",
      "The city being processed is: puri | 1259184\n",
      "The city being processed is: mahenge | 155274\n",
      "The city being processed is: huizhou | 1806776\n",
      "The city being processed is: shubarshi | 608270\n",
      "The city being processed is: piacabucu | 3454005\n",
      "The city being processed is: zyryanka | 2119283\n",
      "The city being processed is: naze | 1855540\n",
      "The city being processed is: hofn | 2630299\n"
     ]
    },
    {
     "name": "stdout",
     "output_type": "stream",
     "text": [
      "The city being processed is: tromso | 6453316\n",
      "The city being processed is: santiago del estero | 3835869\n",
      "The city being processed is: ahipara | 2194098\n",
      "The city being processed is: athmallik | 1268610\n",
      "The city being processed is: shingu | 1847947\n",
      "The city being processed is: isangel | 2136825\n",
      "The city being processed is: bafq | 142255\n",
      "The city being processed is: kaihua | 1804874\n",
      "The city being processed is: curup | 1645875\n",
      "The city being processed is: waipawa | 2206874\n",
      "The city being processed is: lesosibirsk | 1500607\n",
      "The city being processed is: silvan | 300796\n",
      "The city being processed is: omsukchan | 2122493\n",
      "The city being processed is: yerbogachen | 2012956\n",
      "The city being processed is: shizunai | 2128025\n",
      "The city being processed is: nuuk | 3421319\n",
      "The city being processed is: saint anthony | 5044290\n",
      "The city being processed is: magadan | 2123628\n",
      "The city being processed is: tottori | 1849892\n",
      "The city being processed is: tanete | 1629965\n",
      "The city being processed is: santa ana | 5392900\n",
      "The city being processed is: graham | 5795906\n",
      "The city being processed is: chokwe | 1048364\n",
      "The city being processed is: impfondo | 2259655\n",
      "The city being processed is: luwuk | 1637001\n",
      "The city being processed is: likasi | 922741\n",
      "The city being processed is: hounde | 2360073\n",
      "The city being processed is: kazerun | 128321\n",
      "The city being processed is: mayumba | 2399001\n",
      "The city being processed is: morant bay | 3489440\n",
      "The city being processed is: uray | 1488429\n",
      "The city being processed is: hambantota | 1244926\n",
      "The city being processed is: brake | 2945545\n",
      "The city being processed is: halifax | 6324729\n",
      "The city being processed is: marquette | 5000950\n",
      "The city being processed is: novo aripuana | 3663142\n",
      "The city being processed is: xinzhi | 1788462\n",
      "The city being processed is: mandera | 187896\n",
      "The city being processed is: verkhnevilyuysk | 2013639\n",
      "The city being processed is: anekal | 1278609\n"
     ]
    }
   ],
   "source": [
    "url = \"http://api.openweathermap.org/data/2.5/weather?\"\n",
    "units = \"metric\"\n",
    "query_url = f\"{url}appid={weather_api_key}&units={units}&q=\"\n",
    "\n",
    "cityweather = []\n",
    "country = []\n",
    "date = []\n",
    "lat = []\n",
    "lng = []\n",
    "temp = []\n",
    "windspeed = []\n",
    "cloudiness = []\n",
    "humidity = [] \n",
    "id_city = []\n",
    "\n",
    "# Loop through the list of cities and perform a request for data on each\n",
    "for city in cities:\n",
    "    response = requests.get(query_url + city).json()\n",
    "    try:\n",
    "        lat.append(response['coord']['lat'])\n",
    "        lng.append(response['coord']['lon'])\n",
    "        temp.append(response['main']['temp_max'])\n",
    "        windspeed.append(response['wind']['speed'])\n",
    "        humidity.append(response['main']['humidity'])\n",
    "        cloudiness.append(response['clouds']['all'])\n",
    "        id_city.append(response['id'])\n",
    "        country.append(response['sys']['country'])\n",
    "        date.append(response['dt'])\n",
    "        cityweather.append(city)\n",
    "        print(f\"The city being processed is: {city} | {response['id']}\")\n",
    "    except:\n",
    "        pass\n",
    "\n"
   ]
  },
  {
   "cell_type": "code",
   "execution_count": 16,
   "metadata": {},
   "outputs": [
    {
     "data": {
      "text/plain": [
       "1581097452"
      ]
     },
     "execution_count": 16,
     "metadata": {},
     "output_type": "execute_result"
    }
   ],
   "source": [
    "response = requests.get(query_url + 'London').json()\n",
    "response['dt']"
   ]
  },
  {
   "cell_type": "markdown",
   "metadata": {},
   "source": [
    "### Convert Raw Data to DataFrame\n",
    "* Export the city data into a .csv.\n",
    "* Display the DataFrame"
   ]
  },
  {
   "cell_type": "code",
   "execution_count": 21,
   "metadata": {},
   "outputs": [
    {
     "data": {
      "text/plain": [
       "City           object\n",
       "Country        object\n",
       "Date            int64\n",
       "Lat           float64\n",
       "Lng           float64\n",
       "Max Temp      float64\n",
       "Wind Speed    float64\n",
       "Cloudiness      int64\n",
       "Humidity        int64\n",
       "dtype: object"
      ]
     },
     "execution_count": 21,
     "metadata": {},
     "output_type": "execute_result"
    }
   ],
   "source": [
    "\n",
    "weather_dict = {\n",
    "    \"City\": cityweather,\n",
    "    \"Country\": country,\n",
    "    \"Date\": date,\n",
    "    \"Lat\": lat,\n",
    "    \"Lng\": lng,\n",
    "    \"Max Temp\": temp,\n",
    "    \"Wind Speed\": windspeed,\n",
    "    \"Cloudiness\": cloudiness,\n",
    "    \"Humidity\": humidity \n",
    "}\n",
    "weather_data = pd.DataFrame(weather_dict)\n",
    "weather_data.dtypes"
   ]
  },
  {
   "cell_type": "code",
   "execution_count": 27,
   "metadata": {},
   "outputs": [
    {
     "data": {
      "text/html": [
       "<div>\n",
       "<style scoped>\n",
       "    .dataframe tbody tr th:only-of-type {\n",
       "        vertical-align: middle;\n",
       "    }\n",
       "\n",
       "    .dataframe tbody tr th {\n",
       "        vertical-align: top;\n",
       "    }\n",
       "\n",
       "    .dataframe thead th {\n",
       "        text-align: right;\n",
       "    }\n",
       "</style>\n",
       "<table border=\"1\" class=\"dataframe\">\n",
       "  <thead>\n",
       "    <tr style=\"text-align: right;\">\n",
       "      <th></th>\n",
       "      <th>City</th>\n",
       "      <th>Country</th>\n",
       "      <th>Date</th>\n",
       "      <th>Lat</th>\n",
       "      <th>Lng</th>\n",
       "      <th>Max Temp</th>\n",
       "      <th>Wind Speed</th>\n",
       "      <th>Cloudiness</th>\n",
       "      <th>Humidity</th>\n",
       "    </tr>\n",
       "  </thead>\n",
       "  <tbody>\n",
       "    <tr>\n",
       "      <td>0</td>\n",
       "      <td>samfya</td>\n",
       "      <td>ZM</td>\n",
       "      <td>1970-01-01</td>\n",
       "      <td>-11.36</td>\n",
       "      <td>29.56</td>\n",
       "      <td>20.09</td>\n",
       "      <td>2.14</td>\n",
       "      <td>78</td>\n",
       "      <td>93</td>\n",
       "    </tr>\n",
       "    <tr>\n",
       "      <td>1</td>\n",
       "      <td>georgetown</td>\n",
       "      <td>MY</td>\n",
       "      <td>1970-01-01</td>\n",
       "      <td>5.41</td>\n",
       "      <td>100.34</td>\n",
       "      <td>28.00</td>\n",
       "      <td>2.10</td>\n",
       "      <td>20</td>\n",
       "      <td>78</td>\n",
       "    </tr>\n",
       "    <tr>\n",
       "      <td>2</td>\n",
       "      <td>coahuayana</td>\n",
       "      <td>MX</td>\n",
       "      <td>1970-01-01</td>\n",
       "      <td>18.73</td>\n",
       "      <td>-103.68</td>\n",
       "      <td>22.00</td>\n",
       "      <td>3.21</td>\n",
       "      <td>40</td>\n",
       "      <td>60</td>\n",
       "    </tr>\n",
       "    <tr>\n",
       "      <td>3</td>\n",
       "      <td>albany</td>\n",
       "      <td>US</td>\n",
       "      <td>1970-01-01</td>\n",
       "      <td>42.60</td>\n",
       "      <td>-73.97</td>\n",
       "      <td>3.00</td>\n",
       "      <td>4.60</td>\n",
       "      <td>90</td>\n",
       "      <td>93</td>\n",
       "    </tr>\n",
       "    <tr>\n",
       "      <td>4</td>\n",
       "      <td>east london</td>\n",
       "      <td>ZA</td>\n",
       "      <td>1970-01-01</td>\n",
       "      <td>-33.02</td>\n",
       "      <td>27.91</td>\n",
       "      <td>20.00</td>\n",
       "      <td>5.10</td>\n",
       "      <td>90</td>\n",
       "      <td>94</td>\n",
       "    </tr>\n",
       "  </tbody>\n",
       "</table>\n",
       "</div>"
      ],
      "text/plain": [
       "          City Country        Date    Lat     Lng  Max Temp  Wind Speed  \\\n",
       "0       samfya      ZM  1970-01-01 -11.36   29.56     20.09        2.14   \n",
       "1   georgetown      MY  1970-01-01   5.41  100.34     28.00        2.10   \n",
       "2   coahuayana      MX  1970-01-01  18.73 -103.68     22.00        3.21   \n",
       "3       albany      US  1970-01-01  42.60  -73.97      3.00        4.60   \n",
       "4  east london      ZA  1970-01-01 -33.02   27.91     20.00        5.10   \n",
       "\n",
       "   Cloudiness  Humidity  \n",
       "0          78        93  \n",
       "1          20        78  \n",
       "2          40        60  \n",
       "3          90        93  \n",
       "4          90        94  "
      ]
     },
     "execution_count": 27,
     "metadata": {},
     "output_type": "execute_result"
    }
   ],
   "source": [
    "weather_data['Date']=pd.to_datetime(weather_data['Date']).dt.date\n",
    "weather_data.head()"
   ]
  },
  {
   "cell_type": "markdown",
   "metadata": {},
   "source": [
    "### Plotting the Data\n",
    "* Use proper labeling of the plots using plot titles (including date of analysis) and axes labels.\n",
    "* Save the plotted figures as .pngs."
   ]
  },
  {
   "cell_type": "markdown",
   "metadata": {},
   "source": [
    "#### Latitude vs. Temperature Plot"
   ]
  },
  {
   "cell_type": "code",
   "execution_count": 28,
   "metadata": {
    "scrolled": true
   },
   "outputs": [
    {
     "data": {
      "image/png": "[encoded data removed]",
      "text/plain": [
       "<Figure size 432x288 with 1 Axes>"
      ]
     },
     "metadata": {
      "needs_background": "light"
     },
     "output_type": "display_data"
    }
   ],
   "source": [
    "plt.scatter(weather_data[\"Lat\"], weather_data[\"Max Temp\"], marker=\"o\")\n",
    "\n",
    "# Incorporate the other graph properties\n",
    "plt.title(\"Temperature in World Cities\")\n",
    "plt.ylabel(\"Temperature (Celsius)\")\n",
    "plt.xlabel(\"Latitude\")\n",
    "plt.grid(True)"
   ]
  },
  {
   "cell_type": "markdown",
   "metadata": {},
   "source": [
    "#### Latitude vs. Humidity Plot"
   ]
  },
  {
   "cell_type": "code",
   "execution_count": 29,
   "metadata": {},
   "outputs": [
    {
     "data": {
      "image/png": "[encoded data removed]",
      "text/plain": [
       "<Figure size 432x288 with 1 Axes>"
      ]
     },
     "metadata": {
      "needs_background": "light"
     },
     "output_type": "display_data"
    }
   ],
   "source": [
    "plt.scatter(weather_data[\"Lat\"], weather_data[\"Humidity\"], marker=\"o\")\n",
    "\n",
    "# Incorporate the other graph properties\n",
    "plt.title(\"Humidity in World Cities\")\n",
    "plt.ylabel(\"Humidity\")\n",
    "plt.xlabel(\"Latitude\")\n",
    "plt.grid(True)"
   ]
  },
  {
   "cell_type": "markdown",
   "metadata": {},
   "source": [
    "#### Latitude vs. Cloudiness Plot"
   ]
  },
  {
   "cell_type": "code",
   "execution_count": 30,
   "metadata": {},
   "outputs": [
    {
     "data": {
      "image/png": "[encoded data removed]",
      "text/plain": [
       "<Figure size 432x288 with 1 Axes>"
      ]
     },
     "metadata": {
      "needs_background": "light"
     },
     "output_type": "display_data"
    }
   ],
   "source": [
    "plt.scatter(weather_data[\"Lat\"], weather_data[\"Cloudiness\"], marker=\"o\")\n",
    "\n",
    "# Incorporate the other graph properties\n",
    "plt.title(\"Cloudiness in World Cities\")\n",
    "plt.ylabel(\"Cloudiness\")\n",
    "plt.xlabel(\"Latitude\")\n",
    "plt.grid(True)"
   ]
  },
  {
   "cell_type": "markdown",
   "metadata": {},
   "source": [
    "#### Latitude vs. Wind Speed Plot"
   ]
  },
  {
   "cell_type": "code",
   "execution_count": 31,
   "metadata": {},
   "outputs": [
    {
     "data": {
      "image/png": "[encoded data removed]",
      "text/plain": [
       "<Figure size 432x288 with 1 Axes>"
      ]
     },
     "metadata": {
      "needs_background": "light"
     },
     "output_type": "display_data"
    }
   ],
   "source": [
    "plt.scatter(weather_data[\"Lat\"], weather_data[\"Wind Speed\"], marker=\"o\")\n",
    "\n",
    "# Incorporate the other graph properties\n",
    "plt.title(\"Wind Speed in World Cities\")\n",
    "plt.ylabel(\"Wind Speed\")\n",
    "plt.xlabel(\"Latitude\")\n",
    "plt.grid(True)"
   ]
  },
  {
   "cell_type": "markdown",
   "metadata": {},
   "source": [
    "## Linear Regression"
   ]
  },
  {
   "cell_type": "code",
   "execution_count": 32,
   "metadata": {},
   "outputs": [],
   "source": [
    "# OPTIONAL: Create a function to create Linear Regression plots\n"
   ]
  },
  {
   "cell_type": "code",
   "execution_count": 33,
   "metadata": {},
   "outputs": [
    {
     "data": {
      "text/html": [
       "<div>\n",
       "<style scoped>\n",
       "    .dataframe tbody tr th:only-of-type {\n",
       "        vertical-align: middle;\n",
       "    }\n",
       "\n",
       "    .dataframe tbody tr th {\n",
       "        vertical-align: top;\n",
       "    }\n",
       "\n",
       "    .dataframe thead th {\n",
       "        text-align: right;\n",
       "    }\n",
       "</style>\n",
       "<table border=\"1\" class=\"dataframe\">\n",
       "  <thead>\n",
       "    <tr style=\"text-align: right;\">\n",
       "      <th></th>\n",
       "      <th>City</th>\n",
       "      <th>Country</th>\n",
       "      <th>Date</th>\n",
       "      <th>Lat</th>\n",
       "      <th>Lng</th>\n",
       "      <th>Max Temp</th>\n",
       "      <th>Wind Speed</th>\n",
       "      <th>Cloudiness</th>\n",
       "      <th>Humidity</th>\n",
       "    </tr>\n",
       "  </thead>\n",
       "  <tbody>\n",
       "    <tr>\n",
       "      <td>1</td>\n",
       "      <td>georgetown</td>\n",
       "      <td>MY</td>\n",
       "      <td>1970-01-01</td>\n",
       "      <td>5.41</td>\n",
       "      <td>100.34</td>\n",
       "      <td>28.00</td>\n",
       "      <td>2.10</td>\n",
       "      <td>20</td>\n",
       "      <td>78</td>\n",
       "    </tr>\n",
       "    <tr>\n",
       "      <td>2</td>\n",
       "      <td>coahuayana</td>\n",
       "      <td>MX</td>\n",
       "      <td>1970-01-01</td>\n",
       "      <td>18.73</td>\n",
       "      <td>-103.68</td>\n",
       "      <td>22.00</td>\n",
       "      <td>3.21</td>\n",
       "      <td>40</td>\n",
       "      <td>60</td>\n",
       "    </tr>\n",
       "    <tr>\n",
       "      <td>3</td>\n",
       "      <td>albany</td>\n",
       "      <td>US</td>\n",
       "      <td>1970-01-01</td>\n",
       "      <td>42.60</td>\n",
       "      <td>-73.97</td>\n",
       "      <td>3.00</td>\n",
       "      <td>4.60</td>\n",
       "      <td>90</td>\n",
       "      <td>93</td>\n",
       "    </tr>\n",
       "    <tr>\n",
       "      <td>5</td>\n",
       "      <td>evensk</td>\n",
       "      <td>RU</td>\n",
       "      <td>1970-01-01</td>\n",
       "      <td>61.95</td>\n",
       "      <td>159.23</td>\n",
       "      <td>-24.93</td>\n",
       "      <td>6.11</td>\n",
       "      <td>0</td>\n",
       "      <td>62</td>\n",
       "    </tr>\n",
       "    <tr>\n",
       "      <td>8</td>\n",
       "      <td>wajima</td>\n",
       "      <td>JP</td>\n",
       "      <td>1970-01-01</td>\n",
       "      <td>37.40</td>\n",
       "      <td>136.90</td>\n",
       "      <td>5.69</td>\n",
       "      <td>6.76</td>\n",
       "      <td>100</td>\n",
       "      <td>81</td>\n",
       "    </tr>\n",
       "  </tbody>\n",
       "</table>\n",
       "</div>"
      ],
      "text/plain": [
       "         City Country        Date    Lat     Lng  Max Temp  Wind Speed  \\\n",
       "1  georgetown      MY  1970-01-01   5.41  100.34     28.00        2.10   \n",
       "2  coahuayana      MX  1970-01-01  18.73 -103.68     22.00        3.21   \n",
       "3      albany      US  1970-01-01  42.60  -73.97      3.00        4.60   \n",
       "5      evensk      RU  1970-01-01  61.95  159.23    -24.93        6.11   \n",
       "8      wajima      JP  1970-01-01  37.40  136.90      5.69        6.76   \n",
       "\n",
       "   Cloudiness  Humidity  \n",
       "1          20        78  \n",
       "2          40        60  \n",
       "3          90        93  \n",
       "5           0        62  \n",
       "8         100        81  "
      ]
     },
     "execution_count": 33,
     "metadata": {},
     "output_type": "execute_result"
    }
   ],
   "source": [
    "# Create Northern and Southern Hemisphere DataFrames\n",
    "northern = weather_data.loc[(weather_data['Lat'] >= 0)]\n",
    "northern.head()\n"
   ]
  },
  {
   "cell_type": "code",
   "execution_count": 34,
   "metadata": {},
   "outputs": [
    {
     "data": {
      "text/html": [
       "<div>\n",
       "<style scoped>\n",
       "    .dataframe tbody tr th:only-of-type {\n",
       "        vertical-align: middle;\n",
       "    }\n",
       "\n",
       "    .dataframe tbody tr th {\n",
       "        vertical-align: top;\n",
       "    }\n",
       "\n",
       "    .dataframe thead th {\n",
       "        text-align: right;\n",
       "    }\n",
       "</style>\n",
       "<table border=\"1\" class=\"dataframe\">\n",
       "  <thead>\n",
       "    <tr style=\"text-align: right;\">\n",
       "      <th></th>\n",
       "      <th>City</th>\n",
       "      <th>Country</th>\n",
       "      <th>Date</th>\n",
       "      <th>Lat</th>\n",
       "      <th>Lng</th>\n",
       "      <th>Max Temp</th>\n",
       "      <th>Wind Speed</th>\n",
       "      <th>Cloudiness</th>\n",
       "      <th>Humidity</th>\n",
       "    </tr>\n",
       "  </thead>\n",
       "  <tbody>\n",
       "    <tr>\n",
       "      <td>0</td>\n",
       "      <td>samfya</td>\n",
       "      <td>ZM</td>\n",
       "      <td>1970-01-01</td>\n",
       "      <td>-11.36</td>\n",
       "      <td>29.56</td>\n",
       "      <td>20.09</td>\n",
       "      <td>2.14</td>\n",
       "      <td>78</td>\n",
       "      <td>93</td>\n",
       "    </tr>\n",
       "    <tr>\n",
       "      <td>4</td>\n",
       "      <td>east london</td>\n",
       "      <td>ZA</td>\n",
       "      <td>1970-01-01</td>\n",
       "      <td>-33.02</td>\n",
       "      <td>27.91</td>\n",
       "      <td>20.00</td>\n",
       "      <td>5.10</td>\n",
       "      <td>90</td>\n",
       "      <td>94</td>\n",
       "    </tr>\n",
       "    <tr>\n",
       "      <td>6</td>\n",
       "      <td>port macquarie</td>\n",
       "      <td>AU</td>\n",
       "      <td>1970-01-01</td>\n",
       "      <td>-31.43</td>\n",
       "      <td>152.92</td>\n",
       "      <td>22.00</td>\n",
       "      <td>2.10</td>\n",
       "      <td>75</td>\n",
       "      <td>94</td>\n",
       "    </tr>\n",
       "    <tr>\n",
       "      <td>7</td>\n",
       "      <td>ushuaia</td>\n",
       "      <td>AR</td>\n",
       "      <td>1970-01-01</td>\n",
       "      <td>-54.80</td>\n",
       "      <td>-68.30</td>\n",
       "      <td>16.00</td>\n",
       "      <td>2.10</td>\n",
       "      <td>91</td>\n",
       "      <td>51</td>\n",
       "    </tr>\n",
       "    <tr>\n",
       "      <td>9</td>\n",
       "      <td>pisco</td>\n",
       "      <td>PE</td>\n",
       "      <td>1970-01-01</td>\n",
       "      <td>-13.70</td>\n",
       "      <td>-76.22</td>\n",
       "      <td>25.56</td>\n",
       "      <td>5.10</td>\n",
       "      <td>0</td>\n",
       "      <td>30</td>\n",
       "    </tr>\n",
       "  </tbody>\n",
       "</table>\n",
       "</div>"
      ],
      "text/plain": [
       "             City Country        Date    Lat     Lng  Max Temp  Wind Speed  \\\n",
       "0          samfya      ZM  1970-01-01 -11.36   29.56     20.09        2.14   \n",
       "4     east london      ZA  1970-01-01 -33.02   27.91     20.00        5.10   \n",
       "6  port macquarie      AU  1970-01-01 -31.43  152.92     22.00        2.10   \n",
       "7         ushuaia      AR  1970-01-01 -54.80  -68.30     16.00        2.10   \n",
       "9           pisco      PE  1970-01-01 -13.70  -76.22     25.56        5.10   \n",
       "\n",
       "   Cloudiness  Humidity  \n",
       "0          78        93  \n",
       "4          90        94  \n",
       "6          75        94  \n",
       "7          91        51  \n",
       "9           0        30  "
      ]
     },
     "execution_count": 34,
     "metadata": {},
     "output_type": "execute_result"
    }
   ],
   "source": [
    "southern = weather_data.loc[(weather_data['Lat'] < 0)]\n",
    "southern.head()"
   ]
  },
  {
   "cell_type": "markdown",
   "metadata": {},
   "source": [
    "####  Northern Hemisphere - Max Temp vs. Latitude Linear Regression"
   ]
  },
  {
   "cell_type": "code",
   "execution_count": 35,
   "metadata": {},
   "outputs": [
    {
     "name": "stdout",
     "output_type": "stream",
     "text": [
      "The r-squared is: -0.8682134246961162\n"
     ]
    },
    {
     "data": {
      "image/png": "[encoded data removed]",
      "text/plain": [
       "<Figure size 432x288 with 1 Axes>"
      ]
     },
     "metadata": {
      "needs_background": "light"
     },
     "output_type": "display_data"
    },
    {
     "data": {
      "text/plain": [
       "<Figure size 432x288 with 0 Axes>"
      ]
     },
     "metadata": {},
     "output_type": "display_data"
    }
   ],
   "source": [
    "x = northern['Lat']\n",
    "y = northern['Max Temp']\n",
    "(slope, intercept, rvalue, pvalue, stderr) = linregress(x, y)\n",
    "regress_values = x * slope + intercept\n",
    "line_eq = \"y = \" + str(round(slope,2)) + \"x + \" + str(round(intercept,2))\n",
    "plt.scatter(x,y)\n",
    "plt.plot(x,regress_values,\"r-\")\n",
    "plt.annotate(line_eq,(6,10),fontsize=15,color=\"red\")\n",
    "plt.xlabel('Latitude')\n",
    "plt.ylabel('Max Temp')\n",
    "print(f\"The r-squared is: {rvalue}\")\n",
    "plt.show()\n",
    "plt.savefig(\"../Images/temp_lat_linreg_north.png\")"
   ]
  },
  {
   "cell_type": "markdown",
   "metadata": {},
   "source": [
    "####  Southern Hemisphere - Max Temp vs. Latitude Linear Regression"
   ]
  },
  {
   "cell_type": "code",
   "execution_count": 36,
   "metadata": {},
   "outputs": [
    {
     "name": "stdout",
     "output_type": "stream",
     "text": [
      "The r-squared is: 0.512832403742481\n"
     ]
    },
    {
     "data": {
      "image/png": "[encoded data removed]",
      "text/plain": [
       "<Figure size 432x288 with 1 Axes>"
      ]
     },
     "metadata": {
      "needs_background": "light"
     },
     "output_type": "display_data"
    },
    {
     "data": {
      "text/plain": [
       "<Figure size 432x288 with 0 Axes>"
      ]
     },
     "metadata": {},
     "output_type": "display_data"
    }
   ],
   "source": [
    "x = southern['Lat']\n",
    "y = southern['Max Temp']\n",
    "(slope, intercept, rvalue, pvalue, stderr) = linregress(x, y)\n",
    "regress_values = x * slope + intercept\n",
    "line_eq = \"y = \" + str(round(slope,2)) + \"x + \" + str(round(intercept,2))\n",
    "plt.scatter(x,y)\n",
    "plt.plot(x,regress_values,\"r-\")\n",
    "plt.annotate(line_eq,(6,10),fontsize=15,color=\"red\")\n",
    "plt.xlabel('Latitude')\n",
    "plt.ylabel('Max Temp')\n",
    "print(f\"The r-squared is: {rvalue}\")\n",
    "plt.show()\n",
    "plt.savefig(\"../Images/temp_lat_linreg_south.png\")"
   ]
  },
  {
   "cell_type": "markdown",
   "metadata": {},
   "source": [
    "####  Northern Hemisphere - Humidity (%) vs. Latitude Linear Regression"
   ]
  },
  {
   "cell_type": "code",
   "execution_count": 37,
   "metadata": {},
   "outputs": [
    {
     "name": "stdout",
     "output_type": "stream",
     "text": [
      "The r-squared is: 0.49690707647891547\n"
     ]
    },
    {
     "data": {
      "image/png": "[encoded data removed]",
      "text/plain": [
       "<Figure size 432x288 with 1 Axes>"
      ]
     },
     "metadata": {
      "needs_background": "light"
     },
     "output_type": "display_data"
    },
    {
     "data": {
      "text/plain": [
       "<Figure size 432x288 with 0 Axes>"
      ]
     },
     "metadata": {},
     "output_type": "display_data"
    }
   ],
   "source": [
    "x = northern['Lat']\n",
    "y = northern['Humidity']\n",
    "(slope, intercept, rvalue, pvalue, stderr) = linregress(x, y)\n",
    "regress_values = x * slope + intercept\n",
    "line_eq = \"y = \" + str(round(slope,2)) + \"x + \" + str(round(intercept,2))\n",
    "plt.scatter(x,y)\n",
    "plt.plot(x,regress_values,\"r-\")\n",
    "plt.annotate(line_eq,(6,10),fontsize=15,color=\"red\")\n",
    "plt.xlabel('Latitude')\n",
    "plt.ylabel('Humidity')\n",
    "print(f\"The r-squared is: {rvalue}\")\n",
    "plt.show()\n",
    "plt.savefig(\"../Images/humidity_lat_linreg_north.png\")"
   ]
  },
  {
   "cell_type": "markdown",
   "metadata": {},
   "source": [
    "####  Southern Hemisphere - Humidity (%) vs. Latitude Linear Regression"
   ]
  },
  {
   "cell_type": "code",
   "execution_count": 38,
   "metadata": {},
   "outputs": [
    {
     "name": "stdout",
     "output_type": "stream",
     "text": [
      "The r-squared is: 0.14565643402146816\n"
     ]
    },
    {
     "data": {
      "image/png": "[encoded data removed]",
      "text/plain": [
       "<Figure size 432x288 with 1 Axes>"
      ]
     },
     "metadata": {
      "needs_background": "light"
     },
     "output_type": "display_data"
    },
    {
     "data": {
      "text/plain": [
       "<Figure size 432x288 with 0 Axes>"
      ]
     },
     "metadata": {},
     "output_type": "display_data"
    }
   ],
   "source": [
    "x = southern['Lat']\n",
    "y = southern['Humidity']\n",
    "(slope, intercept, rvalue, pvalue, stderr) = linregress(x, y)\n",
    "regress_values = x * slope + intercept\n",
    "line_eq = \"y = \" + str(round(slope,2)) + \"x + \" + str(round(intercept,2))\n",
    "plt.scatter(x,y)\n",
    "plt.plot(x,regress_values,\"r-\")\n",
    "plt.annotate(line_eq,(6,10),fontsize=15,color=\"red\")\n",
    "plt.xlabel('Latitude')\n",
    "plt.ylabel('Humidity')\n",
    "print(f\"The r-squared is: {rvalue}\")\n",
    "plt.show()\n",
    "plt.savefig(\"../Images/humidity_lat_linreg_south.png\")"
   ]
  },
  {
   "cell_type": "markdown",
   "metadata": {},
   "source": [
    "####  Northern Hemisphere - Cloudiness (%) vs. Latitude Linear Regression"
   ]
  },
  {
   "cell_type": "code",
   "execution_count": 39,
   "metadata": {},
   "outputs": [
    {
     "name": "stdout",
     "output_type": "stream",
     "text": [
      "The r-squared is: 0.21144893014134253\n"
     ]
    },
    {
     "data": {
      "image/png": "[encoded data removed]",
      "text/plain": [
       "<Figure size 432x288 with 1 Axes>"
      ]
     },
     "metadata": {
      "needs_background": "light"
     },
     "output_type": "display_data"
    },
    {
     "data": {
      "text/plain": [
       "<Figure size 432x288 with 0 Axes>"
      ]
     },
     "metadata": {},
     "output_type": "display_data"
    }
   ],
   "source": [
    "x = northern['Lat']\n",
    "y = northern['Cloudiness']\n",
    "(slope, intercept, rvalue, pvalue, stderr) = linregress(x, y)\n",
    "regress_values = x * slope + intercept\n",
    "line_eq = \"y = \" + str(round(slope,2)) + \"x + \" + str(round(intercept,2))\n",
    "plt.scatter(x,y)\n",
    "plt.plot(x,regress_values,\"r-\")\n",
    "plt.annotate(line_eq,(6,10),fontsize=15,color=\"red\")\n",
    "plt.xlabel('Latitude')\n",
    "plt.ylabel('Cloudiness')\n",
    "print(f\"The r-squared is: {rvalue}\")\n",
    "plt.show()\n",
    "plt.savefig(\"../Images/cloudiness_lat_linreg_north.png\")"
   ]
  },
  {
   "cell_type": "markdown",
   "metadata": {},
   "source": [
    "####  Southern Hemisphere - Cloudiness (%) vs. Latitude Linear Regression"
   ]
  },
  {
   "cell_type": "code",
   "execution_count": 40,
   "metadata": {},
   "outputs": [
    {
     "name": "stdout",
     "output_type": "stream",
     "text": [
      "The r-squared is: 0.1696792414533082\n"
     ]
    },
    {
     "data": {
      "image/png": "[encoded data removed]",
      "text/plain": [
       "<Figure size 432x288 with 1 Axes>"
      ]
     },
     "metadata": {
      "needs_background": "light"
     },
     "output_type": "display_data"
    },
    {
     "data": {
      "text/plain": [
       "<Figure size 432x288 with 0 Axes>"
      ]
     },
     "metadata": {},
     "output_type": "display_data"
    }
   ],
   "source": [
    "x = southern['Lat']\n",
    "y = southern['Cloudiness']\n",
    "(slope, intercept, rvalue, pvalue, stderr) = linregress(x, y)\n",
    "regress_values = x * slope + intercept\n",
    "line_eq = \"y = \" + str(round(slope,2)) + \"x + \" + str(round(intercept,2))\n",
    "plt.scatter(x,y)\n",
    "plt.plot(x,regress_values,\"r-\")\n",
    "plt.annotate(line_eq,(6,10),fontsize=15,color=\"red\")\n",
    "plt.xlabel('Latitude')\n",
    "plt.ylabel('Cloudiness')\n",
    "print(f\"The r-squared is: {rvalue}\")\n",
    "plt.show()\n",
    "plt.savefig(\"../Images/cloudiness_lat_linreg_south.png\")"
   ]
  },
  {
   "cell_type": "markdown",
   "metadata": {},
   "source": [
    "####  Northern Hemisphere - Wind Speed (mph) vs. Latitude Linear Regression"
   ]
  },
  {
   "cell_type": "code",
   "execution_count": 41,
   "metadata": {},
   "outputs": [
    {
     "name": "stdout",
     "output_type": "stream",
     "text": [
      "The r-squared is: 0.09649806354462317\n"
     ]
    },
    {
     "data": {
      "image/png": "[encoded data removed]",
      "text/plain": [
       "<Figure size 432x288 with 1 Axes>"
      ]
     },
     "metadata": {
      "needs_background": "light"
     },
     "output_type": "display_data"
    },
    {
     "data": {
      "text/plain": [
       "<Figure size 432x288 with 0 Axes>"
      ]
     },
     "metadata": {},
     "output_type": "display_data"
    }
   ],
   "source": [
    "x = northern['Lat']\n",
    "y = northern['Wind Speed']\n",
    "(slope, intercept, rvalue, pvalue, stderr) = linregress(x, y)\n",
    "regress_values = x * slope + intercept\n",
    "line_eq = \"y = \" + str(round(slope,2)) + \"x + \" + str(round(intercept,2))\n",
    "plt.scatter(x,y)\n",
    "plt.plot(x,regress_values,\"r-\")\n",
    "plt.annotate(line_eq,(6,10),fontsize=15,color=\"red\")\n",
    "plt.xlabel('Latitude')\n",
    "plt.ylabel('Wind Speed')\n",
    "print(f\"The r-squared is: {rvalue}\")\n",
    "plt.show()\n",
    "plt.savefig(\"../Images/windspeed_lat_linreg_north.png\")"
   ]
  },
  {
   "cell_type": "markdown",
   "metadata": {},
   "source": [
    "####  Southern Hemisphere - Wind Speed (mph) vs. Latitude Linear Regression"
   ]
  },
  {
   "cell_type": "code",
   "execution_count": 42,
   "metadata": {},
   "outputs": [
    {
     "name": "stdout",
     "output_type": "stream",
     "text": [
      "The r-squared is: -0.20802797172552884\n"
     ]
    },
    {
     "data": {
      "image/png": "[encoded data removed]",
      "text/plain": [
       "<Figure size 432x288 with 1 Axes>"
      ]
     },
     "metadata": {
      "needs_background": "light"
     },
     "output_type": "display_data"
    },
    {
     "data": {
      "text/plain": [
       "<Figure size 432x288 with 0 Axes>"
      ]
     },
     "metadata": {},
     "output_type": "display_data"
    }
   ],
   "source": [
    "x = southern['Lat']\n",
    "y = southern['Wind Speed']\n",
    "(slope, intercept, rvalue, pvalue, stderr) = linregress(x, y)\n",
    "regress_values = x * slope + intercept\n",
    "line_eq = \"y = \" + str(round(slope,2)) + \"x + \" + str(round(intercept,2))\n",
    "plt.scatter(x,y)\n",
    "plt.plot(x,regress_values,\"r-\")\n",
    "plt.annotate(line_eq,(6,10),fontsize=15,color=\"red\")\n",
    "plt.xlabel('Latitude')\n",
    "plt.ylabel('Wind Speed')\n",
    "print(f\"The r-squared is: {rvalue}\")\n",
    "plt.show()\n",
    "plt.savefig(\"../Images/windspeed_lat_linreg_south.png\")"
   ]
  },
  {
   "cell_type": "code",
   "execution_count": 43,
   "metadata": {},
   "outputs": [],
   "source": [
    "weather_data.to_csv('my_weather_data.csv')"
   ]
  },
  {
   "cell_type": "code",
   "execution_count": null,
   "metadata": {},
   "outputs": [],
   "source": []
  },
  {
   "cell_type": "code",
   "execution_count": null,
   "metadata": {},
   "outputs": [],
   "source": []
  }
 ],
 "metadata": {
  "anaconda-cloud": {},
  "kernel_info": {
   "name": "python3"
  },
  "kernelspec": {
   "display_name": "Python 3",
   "language": "python",
   "name": "python3"
  },
  "language_info": {
   "codemirror_mode": {
    "name": "ipython",
    "version": 3
   },
   "file_extension": ".py",
   "mimetype": "text/x-python",
   "name": "python",
   "nbconvert_exporter": "python",
   "pygments_lexer": "ipython3",
   "version": "3.7.4"
  },
  "latex_envs": {
   "LaTeX_envs_menu_present": true,
   "autoclose": false,
   "autocomplete": true,
   "bibliofile": "biblio.bib",
   "cite_by": "apalike",
   "current_citInitial": 1,
   "eqLabelWithNumbers": true,
   "eqNumInitial": 1,
   "hotkeys": {
    "equation": "Ctrl-E",
    "itemize": "Ctrl-I"
   },
   "labels_anchors": false,
   "latex_user_defs": false,
   "report_style_numbering": false,
   "user_envs_cfg": false
  },
  "nteract": {
   "version": "0.12.3"
  }
 },
 "nbformat": 4,
 "nbformat_minor": 4
}
